{
 "cells": [
  {
   "cell_type": "code",
   "execution_count": 2,
   "metadata": {},
   "outputs": [],
   "source": [
    "import numpy as np\n",
    "import matplotlib.pyplot as plt\n",
    "import matplotlib as mp\n",
    "import pandas as pd\n",
    "import sklearn as sk\n",
    "from sklearn.linear_model import LinearRegression\n",
    "from sklearn import linear_model\n",
    "\n",
    "from sklearn.model_selection import train_test_split\n",
    "import re\n"
   ]
  },
  {
   "cell_type": "code",
   "execution_count": 3,
   "metadata": {},
   "outputs": [
    {
     "data": {
      "text/html": [
       "<div>\n",
       "<style scoped>\n",
       "    .dataframe tbody tr th:only-of-type {\n",
       "        vertical-align: middle;\n",
       "    }\n",
       "\n",
       "    .dataframe tbody tr th {\n",
       "        vertical-align: top;\n",
       "    }\n",
       "\n",
       "    .dataframe thead th {\n",
       "        text-align: right;\n",
       "    }\n",
       "</style>\n",
       "<table border=\"1\" class=\"dataframe\">\n",
       "  <thead>\n",
       "    <tr style=\"text-align: right;\">\n",
       "      <th></th>\n",
       "      <th>Price</th>\n",
       "      <th>Carpet Area</th>\n",
       "      <th>Bedrooms</th>\n",
       "      <th>Builder</th>\n",
       "      <th>Paid User</th>\n",
       "      <th>Locality</th>\n",
       "      <th>Property Type</th>\n",
       "      <th>User Type</th>\n",
       "      <th>Prime Location</th>\n",
       "      <th>Agent</th>\n",
       "      <th>Link</th>\n",
       "      <th>Prop ID</th>\n",
       "      <th>Other</th>\n",
       "    </tr>\n",
       "  </thead>\n",
       "  <tbody>\n",
       "    <tr>\n",
       "      <th>0</th>\n",
       "      <td>49.3 Lac</td>\n",
       "      <td>N</td>\n",
       "      <td>2</td>\n",
       "      <td>ELV Projects Private Limited</td>\n",
       "      <td>Y</td>\n",
       "      <td>Adibatla</td>\n",
       "      <td>Apartment</td>\n",
       "      <td>Builder</td>\n",
       "      <td>Y</td>\n",
       "      <td>RANJITH DORA</td>\n",
       "      <td>https://www.magicbricks.com/propertyDetails/2-...</td>\n",
       "      <td>domcache_srp_54364457</td>\n",
       "      <td>***super area*1285 sqft*****transaction*New Pr...</td>\n",
       "    </tr>\n",
       "    <tr>\n",
       "      <th>1</th>\n",
       "      <td>79.9 Lac</td>\n",
       "      <td>NaN</td>\n",
       "      <td>2</td>\n",
       "      <td>NaN</td>\n",
       "      <td>Y</td>\n",
       "      <td>Manikonda, Outer Ring Road</td>\n",
       "      <td>Apartment</td>\n",
       "      <td>Builder</td>\n",
       "      <td>Y</td>\n",
       "      <td>Pavan  Kumar</td>\n",
       "      <td>https://www.magicbricks.com/propertyDetails/2-...</td>\n",
       "      <td>domcache_srp_56459889</td>\n",
       "      <td>***super area*1268 sqft****status*Ready to Mov...</td>\n",
       "    </tr>\n",
       "    <tr>\n",
       "      <th>2</th>\n",
       "      <td>86.3 Lac</td>\n",
       "      <td>NaN</td>\n",
       "      <td>2</td>\n",
       "      <td>Silversand Infratech Pvt. Ltd</td>\n",
       "      <td>Y</td>\n",
       "      <td>Hitech City</td>\n",
       "      <td>Apartment</td>\n",
       "      <td>Builder</td>\n",
       "      <td>Y</td>\n",
       "      <td>Shegur</td>\n",
       "      <td>https://www.magicbricks.com/propertyDetails/2-...</td>\n",
       "      <td>domcache_srp_54835677</td>\n",
       "      <td>***super area*1150 sqft****status*Ready to Mov...</td>\n",
       "    </tr>\n",
       "    <tr>\n",
       "      <th>3</th>\n",
       "      <td>40.9 Lac</td>\n",
       "      <td>N</td>\n",
       "      <td>2</td>\n",
       "      <td>NaN</td>\n",
       "      <td>Y</td>\n",
       "      <td>Aminpur</td>\n",
       "      <td>Apartment</td>\n",
       "      <td>Builder</td>\n",
       "      <td>Y</td>\n",
       "      <td>Kumaran A</td>\n",
       "      <td>https://www.magicbricks.com/propertyDetails/2-...</td>\n",
       "      <td>domcache_srp_55539835</td>\n",
       "      <td>***super area*918 sqft****status**\\t\\t\\t\\t\\t\\t...</td>\n",
       "    </tr>\n",
       "    <tr>\n",
       "      <th>4</th>\n",
       "      <td>1.35 Cr</td>\n",
       "      <td>N</td>\n",
       "      <td>3</td>\n",
       "      <td>Sri Aditya Homes Pvt. Ltd.</td>\n",
       "      <td>Y</td>\n",
       "      <td>Shaikpet</td>\n",
       "      <td>Apartment</td>\n",
       "      <td>Builder</td>\n",
       "      <td>Y</td>\n",
       "      <td>Ranjani</td>\n",
       "      <td>https://www.magicbricks.com/propertyDetails/3-...</td>\n",
       "      <td>domcache_srp_50279054</td>\n",
       "      <td>***super area*1895 sqft****status**\\t\\t\\t\\t\\t\\...</td>\n",
       "    </tr>\n",
       "  </tbody>\n",
       "</table>\n",
       "</div>"
      ],
      "text/plain": [
       "      Price Carpet Area Bedrooms                        Builder Paid User  \\\n",
       "0  49.3 Lac           N        2   ELV Projects Private Limited         Y   \n",
       "1  79.9 Lac         NaN        2                            NaN         Y   \n",
       "2  86.3 Lac         NaN        2  Silversand Infratech Pvt. Ltd         Y   \n",
       "3  40.9 Lac           N        2                            NaN         Y   \n",
       "4   1.35 Cr           N        3     Sri Aditya Homes Pvt. Ltd.         Y   \n",
       "\n",
       "                     Locality Property Type User Type Prime Location  \\\n",
       "0                    Adibatla     Apartment   Builder              Y   \n",
       "1  Manikonda, Outer Ring Road     Apartment   Builder              Y   \n",
       "2                 Hitech City     Apartment   Builder              Y   \n",
       "3                     Aminpur     Apartment   Builder              Y   \n",
       "4                    Shaikpet     Apartment   Builder              Y   \n",
       "\n",
       "          Agent                                               Link  \\\n",
       "0  RANJITH DORA  https://www.magicbricks.com/propertyDetails/2-...   \n",
       "1  Pavan  Kumar  https://www.magicbricks.com/propertyDetails/2-...   \n",
       "2        Shegur  https://www.magicbricks.com/propertyDetails/2-...   \n",
       "3     Kumaran A  https://www.magicbricks.com/propertyDetails/2-...   \n",
       "4       Ranjani  https://www.magicbricks.com/propertyDetails/3-...   \n",
       "\n",
       "                 Prop ID                                              Other  \n",
       "0  domcache_srp_54364457  ***super area*1285 sqft*****transaction*New Pr...  \n",
       "1  domcache_srp_56459889  ***super area*1268 sqft****status*Ready to Mov...  \n",
       "2  domcache_srp_54835677  ***super area*1150 sqft****status*Ready to Mov...  \n",
       "3  domcache_srp_55539835  ***super area*918 sqft****status**\\t\\t\\t\\t\\t\\t...  \n",
       "4  domcache_srp_50279054  ***super area*1895 sqft****status**\\t\\t\\t\\t\\t\\...  "
      ]
     },
     "execution_count": 3,
     "metadata": {},
     "output_type": "execute_result"
    }
   ],
   "source": [
    "df = pd.read_csv('hyderabad_first_type_000.csv')\n",
    "df.head()"
   ]
  },
  {
   "cell_type": "markdown",
   "metadata": {},
   "source": [
    "Data Preprocessing\n"
   ]
  },
  {
   "cell_type": "code",
   "execution_count": 4,
   "metadata": {},
   "outputs": [
    {
     "data": {
      "text/html": [
       "<div>\n",
       "<style scoped>\n",
       "    .dataframe tbody tr th:only-of-type {\n",
       "        vertical-align: middle;\n",
       "    }\n",
       "\n",
       "    .dataframe tbody tr th {\n",
       "        vertical-align: top;\n",
       "    }\n",
       "\n",
       "    .dataframe thead th {\n",
       "        text-align: right;\n",
       "    }\n",
       "</style>\n",
       "<table border=\"1\" class=\"dataframe\">\n",
       "  <thead>\n",
       "    <tr style=\"text-align: right;\">\n",
       "      <th></th>\n",
       "      <th>Price</th>\n",
       "      <th>Carpet Area</th>\n",
       "      <th>Bedrooms</th>\n",
       "      <th>Builder</th>\n",
       "      <th>Paid User</th>\n",
       "      <th>Locality</th>\n",
       "      <th>Property Type</th>\n",
       "      <th>User Type</th>\n",
       "      <th>Prime Location</th>\n",
       "      <th>Agent</th>\n",
       "      <th>Link</th>\n",
       "      <th>Prop ID</th>\n",
       "      <th>Other</th>\n",
       "    </tr>\n",
       "  </thead>\n",
       "  <tbody>\n",
       "    <tr>\n",
       "      <th>0</th>\n",
       "      <td>49.3 Lac</td>\n",
       "      <td>N</td>\n",
       "      <td>2</td>\n",
       "      <td>ELV Projects Private Limited</td>\n",
       "      <td>Y</td>\n",
       "      <td>Adibatla</td>\n",
       "      <td>Apartment</td>\n",
       "      <td>Builder</td>\n",
       "      <td>Y</td>\n",
       "      <td>RANJITH DORA</td>\n",
       "      <td>https://www.magicbricks.com/propertyDetails/2-...</td>\n",
       "      <td>domcache_srp_54364457</td>\n",
       "      <td>***super area*1285 sqft*****transaction*New Pr...</td>\n",
       "    </tr>\n",
       "    <tr>\n",
       "      <th>1</th>\n",
       "      <td>79.9 Lac</td>\n",
       "      <td>NaN</td>\n",
       "      <td>2</td>\n",
       "      <td>NaN</td>\n",
       "      <td>Y</td>\n",
       "      <td>Manikonda, Outer Ring Road</td>\n",
       "      <td>Apartment</td>\n",
       "      <td>Builder</td>\n",
       "      <td>Y</td>\n",
       "      <td>Pavan  Kumar</td>\n",
       "      <td>https://www.magicbricks.com/propertyDetails/2-...</td>\n",
       "      <td>domcache_srp_56459889</td>\n",
       "      <td>***super area*1268 sqft****status*Ready to Mov...</td>\n",
       "    </tr>\n",
       "    <tr>\n",
       "      <th>2</th>\n",
       "      <td>86.3 Lac</td>\n",
       "      <td>NaN</td>\n",
       "      <td>2</td>\n",
       "      <td>Silversand Infratech Pvt. Ltd</td>\n",
       "      <td>Y</td>\n",
       "      <td>Hitech City</td>\n",
       "      <td>Apartment</td>\n",
       "      <td>Builder</td>\n",
       "      <td>Y</td>\n",
       "      <td>Shegur</td>\n",
       "      <td>https://www.magicbricks.com/propertyDetails/2-...</td>\n",
       "      <td>domcache_srp_54835677</td>\n",
       "      <td>***super area*1150 sqft****status*Ready to Mov...</td>\n",
       "    </tr>\n",
       "    <tr>\n",
       "      <th>3</th>\n",
       "      <td>40.9 Lac</td>\n",
       "      <td>N</td>\n",
       "      <td>2</td>\n",
       "      <td>NaN</td>\n",
       "      <td>Y</td>\n",
       "      <td>Aminpur</td>\n",
       "      <td>Apartment</td>\n",
       "      <td>Builder</td>\n",
       "      <td>Y</td>\n",
       "      <td>Kumaran A</td>\n",
       "      <td>https://www.magicbricks.com/propertyDetails/2-...</td>\n",
       "      <td>domcache_srp_55539835</td>\n",
       "      <td>***super area*918 sqft****status**\\t\\t\\t\\t\\t\\t...</td>\n",
       "    </tr>\n",
       "    <tr>\n",
       "      <th>4</th>\n",
       "      <td>78.4 Lac</td>\n",
       "      <td>N</td>\n",
       "      <td>2</td>\n",
       "      <td>BEL</td>\n",
       "      <td>Y</td>\n",
       "      <td>Moti Nagar</td>\n",
       "      <td>Apartment</td>\n",
       "      <td>Builder</td>\n",
       "      <td>Y</td>\n",
       "      <td>Brigade</td>\n",
       "      <td>https://www.magicbricks.com/propertyDetails/2-...</td>\n",
       "      <td>domcache_srp_56379877</td>\n",
       "      <td>***super area*1174 sqft****status**\\t\\t\\t\\t\\t\\...</td>\n",
       "    </tr>\n",
       "  </tbody>\n",
       "</table>\n",
       "</div>"
      ],
      "text/plain": [
       "      Price Carpet Area Bedrooms                        Builder Paid User  \\\n",
       "0  49.3 Lac           N        2   ELV Projects Private Limited         Y   \n",
       "1  79.9 Lac         NaN        2                            NaN         Y   \n",
       "2  86.3 Lac         NaN        2  Silversand Infratech Pvt. Ltd         Y   \n",
       "3  40.9 Lac           N        2                            NaN         Y   \n",
       "4  78.4 Lac           N        2                            BEL         Y   \n",
       "\n",
       "                     Locality Property Type User Type Prime Location  \\\n",
       "0                    Adibatla     Apartment   Builder              Y   \n",
       "1  Manikonda, Outer Ring Road     Apartment   Builder              Y   \n",
       "2                 Hitech City     Apartment   Builder              Y   \n",
       "3                     Aminpur     Apartment   Builder              Y   \n",
       "4                  Moti Nagar     Apartment   Builder              Y   \n",
       "\n",
       "          Agent                                               Link  \\\n",
       "0  RANJITH DORA  https://www.magicbricks.com/propertyDetails/2-...   \n",
       "1  Pavan  Kumar  https://www.magicbricks.com/propertyDetails/2-...   \n",
       "2        Shegur  https://www.magicbricks.com/propertyDetails/2-...   \n",
       "3     Kumaran A  https://www.magicbricks.com/propertyDetails/2-...   \n",
       "4       Brigade  https://www.magicbricks.com/propertyDetails/2-...   \n",
       "\n",
       "                 Prop ID                                              Other  \n",
       "0  domcache_srp_54364457  ***super area*1285 sqft*****transaction*New Pr...  \n",
       "1  domcache_srp_56459889  ***super area*1268 sqft****status*Ready to Mov...  \n",
       "2  domcache_srp_54835677  ***super area*1150 sqft****status*Ready to Mov...  \n",
       "3  domcache_srp_55539835  ***super area*918 sqft****status**\\t\\t\\t\\t\\t\\t...  \n",
       "4  domcache_srp_56379877  ***super area*1174 sqft****status**\\t\\t\\t\\t\\t\\...  "
      ]
     },
     "execution_count": 4,
     "metadata": {},
     "output_type": "execute_result"
    }
   ],
   "source": [
    "crore_prices_index = df[df['Price'].str.contains('Cr')].index\n",
    "df.drop(crore_prices_index, inplace=True)\n",
    "df.reset_index(drop=True, inplace=True)\n",
    "df.head()"
   ]
  },
  {
   "cell_type": "code",
   "execution_count": 5,
   "metadata": {},
   "outputs": [
    {
     "data": {
      "text/html": [
       "<div>\n",
       "<style scoped>\n",
       "    .dataframe tbody tr th:only-of-type {\n",
       "        vertical-align: middle;\n",
       "    }\n",
       "\n",
       "    .dataframe tbody tr th {\n",
       "        vertical-align: top;\n",
       "    }\n",
       "\n",
       "    .dataframe thead th {\n",
       "        text-align: right;\n",
       "    }\n",
       "</style>\n",
       "<table border=\"1\" class=\"dataframe\">\n",
       "  <thead>\n",
       "    <tr style=\"text-align: right;\">\n",
       "      <th></th>\n",
       "      <th>Price</th>\n",
       "      <th>Carpet Area</th>\n",
       "      <th>Bedrooms</th>\n",
       "      <th>Builder</th>\n",
       "      <th>Paid User</th>\n",
       "      <th>Locality</th>\n",
       "      <th>Property Type</th>\n",
       "      <th>User Type</th>\n",
       "      <th>Prime Location</th>\n",
       "      <th>Agent</th>\n",
       "      <th>Link</th>\n",
       "      <th>Prop ID</th>\n",
       "      <th>Other</th>\n",
       "      <th>Sqft</th>\n",
       "    </tr>\n",
       "  </thead>\n",
       "  <tbody>\n",
       "    <tr>\n",
       "      <th>0</th>\n",
       "      <td>49</td>\n",
       "      <td>N</td>\n",
       "      <td>2</td>\n",
       "      <td>ELV Projects Private Limited</td>\n",
       "      <td>Y</td>\n",
       "      <td>Adibatla</td>\n",
       "      <td>Apartment</td>\n",
       "      <td>Builder</td>\n",
       "      <td>Y</td>\n",
       "      <td>RANJITH DORA</td>\n",
       "      <td>https://www.magicbricks.com/propertyDetails/2-...</td>\n",
       "      <td>domcache_srp_54364457</td>\n",
       "      <td>***super area*1285 sqft*****transaction*New Pr...</td>\n",
       "      <td>1285</td>\n",
       "    </tr>\n",
       "    <tr>\n",
       "      <th>1</th>\n",
       "      <td>79</td>\n",
       "      <td>NaN</td>\n",
       "      <td>2</td>\n",
       "      <td>NaN</td>\n",
       "      <td>Y</td>\n",
       "      <td>Manikonda, Outer Ring Road</td>\n",
       "      <td>Apartment</td>\n",
       "      <td>Builder</td>\n",
       "      <td>Y</td>\n",
       "      <td>Pavan  Kumar</td>\n",
       "      <td>https://www.magicbricks.com/propertyDetails/2-...</td>\n",
       "      <td>domcache_srp_56459889</td>\n",
       "      <td>***super area*1268 sqft****status*Ready to Mov...</td>\n",
       "      <td>1268</td>\n",
       "    </tr>\n",
       "    <tr>\n",
       "      <th>2</th>\n",
       "      <td>86</td>\n",
       "      <td>NaN</td>\n",
       "      <td>2</td>\n",
       "      <td>Silversand Infratech Pvt. Ltd</td>\n",
       "      <td>Y</td>\n",
       "      <td>Hitech City</td>\n",
       "      <td>Apartment</td>\n",
       "      <td>Builder</td>\n",
       "      <td>Y</td>\n",
       "      <td>Shegur</td>\n",
       "      <td>https://www.magicbricks.com/propertyDetails/2-...</td>\n",
       "      <td>domcache_srp_54835677</td>\n",
       "      <td>***super area*1150 sqft****status*Ready to Mov...</td>\n",
       "      <td>1150</td>\n",
       "    </tr>\n",
       "    <tr>\n",
       "      <th>3</th>\n",
       "      <td>40</td>\n",
       "      <td>N</td>\n",
       "      <td>2</td>\n",
       "      <td>NaN</td>\n",
       "      <td>Y</td>\n",
       "      <td>Aminpur</td>\n",
       "      <td>Apartment</td>\n",
       "      <td>Builder</td>\n",
       "      <td>Y</td>\n",
       "      <td>Kumaran A</td>\n",
       "      <td>https://www.magicbricks.com/propertyDetails/2-...</td>\n",
       "      <td>domcache_srp_55539835</td>\n",
       "      <td>***super area*918 sqft****status**\\t\\t\\t\\t\\t\\t...</td>\n",
       "      <td>918</td>\n",
       "    </tr>\n",
       "    <tr>\n",
       "      <th>4</th>\n",
       "      <td>78</td>\n",
       "      <td>N</td>\n",
       "      <td>2</td>\n",
       "      <td>BEL</td>\n",
       "      <td>Y</td>\n",
       "      <td>Moti Nagar</td>\n",
       "      <td>Apartment</td>\n",
       "      <td>Builder</td>\n",
       "      <td>Y</td>\n",
       "      <td>Brigade</td>\n",
       "      <td>https://www.magicbricks.com/propertyDetails/2-...</td>\n",
       "      <td>domcache_srp_56379877</td>\n",
       "      <td>***super area*1174 sqft****status**\\t\\t\\t\\t\\t\\...</td>\n",
       "      <td>1174</td>\n",
       "    </tr>\n",
       "  </tbody>\n",
       "</table>\n",
       "</div>"
      ],
      "text/plain": [
       "  Price Carpet Area Bedrooms                        Builder Paid User  \\\n",
       "0    49           N        2   ELV Projects Private Limited         Y   \n",
       "1    79         NaN        2                            NaN         Y   \n",
       "2    86         NaN        2  Silversand Infratech Pvt. Ltd         Y   \n",
       "3    40           N        2                            NaN         Y   \n",
       "4    78           N        2                            BEL         Y   \n",
       "\n",
       "                     Locality Property Type User Type Prime Location  \\\n",
       "0                    Adibatla     Apartment   Builder              Y   \n",
       "1  Manikonda, Outer Ring Road     Apartment   Builder              Y   \n",
       "2                 Hitech City     Apartment   Builder              Y   \n",
       "3                     Aminpur     Apartment   Builder              Y   \n",
       "4                  Moti Nagar     Apartment   Builder              Y   \n",
       "\n",
       "          Agent                                               Link  \\\n",
       "0  RANJITH DORA  https://www.magicbricks.com/propertyDetails/2-...   \n",
       "1  Pavan  Kumar  https://www.magicbricks.com/propertyDetails/2-...   \n",
       "2        Shegur  https://www.magicbricks.com/propertyDetails/2-...   \n",
       "3     Kumaran A  https://www.magicbricks.com/propertyDetails/2-...   \n",
       "4       Brigade  https://www.magicbricks.com/propertyDetails/2-...   \n",
       "\n",
       "                 Prop ID                                              Other  \\\n",
       "0  domcache_srp_54364457  ***super area*1285 sqft*****transaction*New Pr...   \n",
       "1  domcache_srp_56459889  ***super area*1268 sqft****status*Ready to Mov...   \n",
       "2  domcache_srp_54835677  ***super area*1150 sqft****status*Ready to Mov...   \n",
       "3  domcache_srp_55539835  ***super area*918 sqft****status**\\t\\t\\t\\t\\t\\t...   \n",
       "4  domcache_srp_56379877  ***super area*1174 sqft****status**\\t\\t\\t\\t\\t\\...   \n",
       "\n",
       "   Sqft  \n",
       "0  1285  \n",
       "1  1268  \n",
       "2  1150  \n",
       "3   918  \n",
       "4  1174  "
      ]
     },
     "execution_count": 5,
     "metadata": {},
     "output_type": "execute_result"
    }
   ],
   "source": [
    "pattern = r'(\\d+)-Sq-ft'\n",
    "df['Sqft'] = df['Link'].str.extract(pattern)\n",
    "pattern = r'(\\d+)'\n",
    "df['Price'] = df['Price'].str.extract(pattern)\n",
    "df.head()\n"
   ]
  },
  {
   "cell_type": "code",
   "execution_count": 6,
   "metadata": {},
   "outputs": [
    {
     "data": {
      "text/html": [
       "<div>\n",
       "<style scoped>\n",
       "    .dataframe tbody tr th:only-of-type {\n",
       "        vertical-align: middle;\n",
       "    }\n",
       "\n",
       "    .dataframe tbody tr th {\n",
       "        vertical-align: top;\n",
       "    }\n",
       "\n",
       "    .dataframe thead th {\n",
       "        text-align: right;\n",
       "    }\n",
       "</style>\n",
       "<table border=\"1\" class=\"dataframe\">\n",
       "  <thead>\n",
       "    <tr style=\"text-align: right;\">\n",
       "      <th></th>\n",
       "      <th>Price</th>\n",
       "      <th>Bedrooms</th>\n",
       "      <th>Builder</th>\n",
       "      <th>Locality</th>\n",
       "      <th>Property Type</th>\n",
       "      <th>Sqft</th>\n",
       "    </tr>\n",
       "  </thead>\n",
       "  <tbody>\n",
       "    <tr>\n",
       "      <th>0</th>\n",
       "      <td>49</td>\n",
       "      <td>2</td>\n",
       "      <td>ELV Projects Private Limited</td>\n",
       "      <td>Adibatla</td>\n",
       "      <td>Apartment</td>\n",
       "      <td>1285</td>\n",
       "    </tr>\n",
       "    <tr>\n",
       "      <th>1</th>\n",
       "      <td>79</td>\n",
       "      <td>2</td>\n",
       "      <td>NaN</td>\n",
       "      <td>Manikonda, Outer Ring Road</td>\n",
       "      <td>Apartment</td>\n",
       "      <td>1268</td>\n",
       "    </tr>\n",
       "    <tr>\n",
       "      <th>2</th>\n",
       "      <td>86</td>\n",
       "      <td>2</td>\n",
       "      <td>Silversand Infratech Pvt. Ltd</td>\n",
       "      <td>Hitech City</td>\n",
       "      <td>Apartment</td>\n",
       "      <td>1150</td>\n",
       "    </tr>\n",
       "    <tr>\n",
       "      <th>3</th>\n",
       "      <td>40</td>\n",
       "      <td>2</td>\n",
       "      <td>NaN</td>\n",
       "      <td>Aminpur</td>\n",
       "      <td>Apartment</td>\n",
       "      <td>918</td>\n",
       "    </tr>\n",
       "    <tr>\n",
       "      <th>4</th>\n",
       "      <td>78</td>\n",
       "      <td>2</td>\n",
       "      <td>BEL</td>\n",
       "      <td>Moti Nagar</td>\n",
       "      <td>Apartment</td>\n",
       "      <td>1174</td>\n",
       "    </tr>\n",
       "  </tbody>\n",
       "</table>\n",
       "</div>"
      ],
      "text/plain": [
       "  Price Bedrooms                        Builder                    Locality  \\\n",
       "0    49        2   ELV Projects Private Limited                    Adibatla   \n",
       "1    79        2                            NaN  Manikonda, Outer Ring Road   \n",
       "2    86        2  Silversand Infratech Pvt. Ltd                 Hitech City   \n",
       "3    40        2                            NaN                     Aminpur   \n",
       "4    78        2                            BEL                  Moti Nagar   \n",
       "\n",
       "  Property Type  Sqft  \n",
       "0     Apartment  1285  \n",
       "1     Apartment  1268  \n",
       "2     Apartment  1150  \n",
       "3     Apartment   918  \n",
       "4     Apartment  1174  "
      ]
     },
     "execution_count": 6,
     "metadata": {},
     "output_type": "execute_result"
    }
   ],
   "source": [
    "df.drop(columns=[\"Agent\",\"Prime Location\",\"Paid User\",\"Carpet Area\"], inplace=True)\n",
    "df.drop(columns=[\"User Type\",\"Link\",\"Prop ID\"], inplace=True)\n",
    "df.drop(columns=[\"Other\"], inplace=True)\n",
    "df.head()\n"
   ]
  },
  {
   "cell_type": "code",
   "execution_count": 7,
   "metadata": {},
   "outputs": [
    {
     "data": {
      "text/html": [
       "<div>\n",
       "<style scoped>\n",
       "    .dataframe tbody tr th:only-of-type {\n",
       "        vertical-align: middle;\n",
       "    }\n",
       "\n",
       "    .dataframe tbody tr th {\n",
       "        vertical-align: top;\n",
       "    }\n",
       "\n",
       "    .dataframe thead th {\n",
       "        text-align: right;\n",
       "    }\n",
       "</style>\n",
       "<table border=\"1\" class=\"dataframe\">\n",
       "  <thead>\n",
       "    <tr style=\"text-align: right;\">\n",
       "      <th></th>\n",
       "      <th>Price</th>\n",
       "      <th>Locality</th>\n",
       "      <th>Sqft</th>\n",
       "    </tr>\n",
       "  </thead>\n",
       "  <tbody>\n",
       "    <tr>\n",
       "      <th>0</th>\n",
       "      <td>49</td>\n",
       "      <td>Adibatla</td>\n",
       "      <td>1285</td>\n",
       "    </tr>\n",
       "    <tr>\n",
       "      <th>1</th>\n",
       "      <td>79</td>\n",
       "      <td>Manikonda, Outer Ring Road</td>\n",
       "      <td>1268</td>\n",
       "    </tr>\n",
       "    <tr>\n",
       "      <th>2</th>\n",
       "      <td>86</td>\n",
       "      <td>Hitech City</td>\n",
       "      <td>1150</td>\n",
       "    </tr>\n",
       "    <tr>\n",
       "      <th>3</th>\n",
       "      <td>40</td>\n",
       "      <td>Aminpur</td>\n",
       "      <td>918</td>\n",
       "    </tr>\n",
       "    <tr>\n",
       "      <th>4</th>\n",
       "      <td>78</td>\n",
       "      <td>Moti Nagar</td>\n",
       "      <td>1174</td>\n",
       "    </tr>\n",
       "  </tbody>\n",
       "</table>\n",
       "</div>"
      ],
      "text/plain": [
       "  Price                    Locality  Sqft\n",
       "0    49                    Adibatla  1285\n",
       "1    79  Manikonda, Outer Ring Road  1268\n",
       "2    86                 Hitech City  1150\n",
       "3    40                     Aminpur   918\n",
       "4    78                  Moti Nagar  1174"
      ]
     },
     "execution_count": 7,
     "metadata": {},
     "output_type": "execute_result"
    }
   ],
   "source": [
    "df.drop(columns=[\"Builder\",\"Property Type\",\"Bedrooms\"], inplace=True)\n",
    "df.head()"
   ]
  },
  {
   "cell_type": "code",
   "execution_count": 8,
   "metadata": {},
   "outputs": [
    {
     "data": {
      "text/plain": [
       "Price        0\n",
       "Locality    89\n",
       "Sqft        76\n",
       "dtype: int64"
      ]
     },
     "execution_count": 8,
     "metadata": {},
     "output_type": "execute_result"
    }
   ],
   "source": [
    "df.isnull().sum()"
   ]
  },
  {
   "cell_type": "code",
   "execution_count": 9,
   "metadata": {},
   "outputs": [
    {
     "data": {
      "text/plain": [
       "Price       0\n",
       "Locality    0\n",
       "Sqft        0\n",
       "dtype: int64"
      ]
     },
     "execution_count": 9,
     "metadata": {},
     "output_type": "execute_result"
    }
   ],
   "source": [
    "df.dropna(inplace=True)\n",
    "df.isnull().sum()"
   ]
  },
  {
   "cell_type": "code",
   "execution_count": 10,
   "metadata": {},
   "outputs": [
    {
     "data": {
      "text/plain": [
       "(1711, 3)"
      ]
     },
     "execution_count": 10,
     "metadata": {},
     "output_type": "execute_result"
    }
   ],
   "source": [
    "df.shape"
   ]
  },
  {
   "cell_type": "code",
   "execution_count": 11,
   "metadata": {},
   "outputs": [
    {
     "data": {
      "text/plain": [
       "Locality\n",
       "Bachupally                    57\n",
       "Miyapur, NH  9                54\n",
       "Kompally                      47\n",
       "Nizampet                      42\n",
       "Pragathi Nagar, Kukatpally    41\n",
       "                              ..\n",
       "Anand Nagar                    1\n",
       "Vinayaka Nagar                 1\n",
       "Vishali Nagar                  1\n",
       "Bharat Nagar, Moosapet         1\n",
       "Officers Colony                1\n",
       "Name: count, Length: 463, dtype: int64"
      ]
     },
     "execution_count": 11,
     "metadata": {},
     "output_type": "execute_result"
    }
   ],
   "source": [
    "df['Locality'].value_counts()"
   ]
  },
  {
   "cell_type": "code",
   "execution_count": 12,
   "metadata": {},
   "outputs": [
    {
     "name": "stdout",
     "output_type": "stream",
     "text": [
      "[57, 54, 47]\n",
      "['Bachupally', 'Miyapur, NH  9', 'Kompally']\n"
     ]
    }
   ],
   "source": [
    "indices=[]\n",
    "vc=df['Locality'].value_counts()\n",
    "vals =[]\n",
    "#places=[\"Bachupally\",\"Manikonda, Outer Ring Road\",\"Patancheru\",\"Gachibowli\",\"Nizampet\"]\n",
    "for i,v in vc.items():\n",
    "  if v>=47:\n",
    "    indices.append(i)\n",
    "    vals.append(v)\n",
    "print(vals)\n",
    "print(indices)"
   ]
  },
  {
   "cell_type": "code",
   "execution_count": 13,
   "metadata": {},
   "outputs": [
    {
     "data": {
      "text/plain": [
       "([0, 1, 2],\n",
       " [Text(0, 0, 'Bachupally'),\n",
       "  Text(1, 0, 'Miyapur, NH  9'),\n",
       "  Text(2, 0, 'Kompally')])"
      ]
     },
     "execution_count": 13,
     "metadata": {},
     "output_type": "execute_result"
    },
    {
     "data": {
      "image/png": "[encoded data removed]",
      "text/plain": [
       "<Figure size 640x480 with 1 Axes>"
      ]
     },
     "metadata": {},
     "output_type": "display_data"
    }
   ],
   "source": [
    "plt.bar(indices,vals)\n",
    "plt.xticks(rotation=90)"
   ]
  },
  {
   "cell_type": "code",
   "execution_count": 14,
   "metadata": {},
   "outputs": [],
   "source": [
    "new_df = df[df['Locality'].isin(indices)]\n",
    "#selecting top 3 most popular locations only"
   ]
  },
  {
   "cell_type": "code",
   "execution_count": 15,
   "metadata": {},
   "outputs": [
    {
     "data": {
      "text/plain": [
       "Price       0\n",
       "Locality    0\n",
       "Sqft        0\n",
       "dtype: int64"
      ]
     },
     "execution_count": 15,
     "metadata": {},
     "output_type": "execute_result"
    }
   ],
   "source": [
    "new_df.isnull().sum()"
   ]
  },
  {
   "cell_type": "code",
   "execution_count": 16,
   "metadata": {},
   "outputs": [],
   "source": [
    "from sklearn.preprocessing import LabelEncoder\n",
    "from sklearn.preprocessing import StandardScaler"
   ]
  },
  {
   "cell_type": "code",
   "execution_count": 17,
   "metadata": {},
   "outputs": [
    {
     "name": "stderr",
     "output_type": "stream",
     "text": [
      "C:\\Users\\divya\\AppData\\Local\\Temp\\ipykernel_8076\\3028564913.py:2: SettingWithCopyWarning: \n",
      "A value is trying to be set on a copy of a slice from a DataFrame.\n",
      "Try using .loc[row_indexer,col_indexer] = value instead\n",
      "\n",
      "See the caveats in the documentation: https://pandas.pydata.org/pandas-docs/stable/user_guide/indexing.html#returning-a-view-versus-a-copy\n",
      "  new_df['Locality'] = enc.fit_transform(new_df['Locality'])\n"
     ]
    }
   ],
   "source": [
    "enc = LabelEncoder()\n",
    "new_df['Locality'] = enc.fit_transform(new_df['Locality'])"
   ]
  },
  {
   "cell_type": "code",
   "execution_count": 18,
   "metadata": {},
   "outputs": [
    {
     "data": {
      "text/plain": [
       "Locality\n",
       "0    57\n",
       "2    54\n",
       "1    47\n",
       "Name: count, dtype: int64"
      ]
     },
     "execution_count": 18,
     "metadata": {},
     "output_type": "execute_result"
    }
   ],
   "source": [
    "new_df['Locality'].value_counts()"
   ]
  },
  {
   "cell_type": "code",
   "execution_count": 19,
   "metadata": {},
   "outputs": [
    {
     "data": {
      "text/html": [
       "<div>\n",
       "<style scoped>\n",
       "    .dataframe tbody tr th:only-of-type {\n",
       "        vertical-align: middle;\n",
       "    }\n",
       "\n",
       "    .dataframe tbody tr th {\n",
       "        vertical-align: top;\n",
       "    }\n",
       "\n",
       "    .dataframe thead th {\n",
       "        text-align: right;\n",
       "    }\n",
       "</style>\n",
       "<table border=\"1\" class=\"dataframe\">\n",
       "  <thead>\n",
       "    <tr style=\"text-align: right;\">\n",
       "      <th></th>\n",
       "      <th>Price</th>\n",
       "      <th>Locality</th>\n",
       "      <th>Sqft</th>\n",
       "    </tr>\n",
       "  </thead>\n",
       "  <tbody>\n",
       "    <tr>\n",
       "      <th>1036</th>\n",
       "      <td>59</td>\n",
       "      <td>0</td>\n",
       "      <td>1449</td>\n",
       "    </tr>\n",
       "    <tr>\n",
       "      <th>769</th>\n",
       "      <td>95</td>\n",
       "      <td>1</td>\n",
       "      <td>1650</td>\n",
       "    </tr>\n",
       "    <tr>\n",
       "      <th>953</th>\n",
       "      <td>54</td>\n",
       "      <td>2</td>\n",
       "      <td>1106</td>\n",
       "    </tr>\n",
       "    <tr>\n",
       "      <th>1482</th>\n",
       "      <td>86</td>\n",
       "      <td>0</td>\n",
       "      <td>1560</td>\n",
       "    </tr>\n",
       "    <tr>\n",
       "      <th>235</th>\n",
       "      <td>70</td>\n",
       "      <td>0</td>\n",
       "      <td>850</td>\n",
       "    </tr>\n",
       "  </tbody>\n",
       "</table>\n",
       "</div>"
      ],
      "text/plain": [
       "     Price  Locality  Sqft\n",
       "1036    59         0  1449\n",
       "769     95         1  1650\n",
       "953     54         2  1106\n",
       "1482    86         0  1560\n",
       "235     70         0   850"
      ]
     },
     "execution_count": 19,
     "metadata": {},
     "output_type": "execute_result"
    }
   ],
   "source": [
    "new_df.sample(5)"
   ]
  },
  {
   "cell_type": "code",
   "execution_count": 20,
   "metadata": {},
   "outputs": [],
   "source": [
    "# ss = StandardScaler()\n",
    "# new_df['Sqft'] = ss.fit_transform(new_df[['Sqft']])\n",
    "# new_df['Price'] = ss.fit_transform(new_df[['Price']])\n"
   ]
  },
  {
   "cell_type": "code",
   "execution_count": 21,
   "metadata": {},
   "outputs": [
    {
     "data": {
      "text/plain": [
       "(158, 3)"
      ]
     },
     "execution_count": 21,
     "metadata": {},
     "output_type": "execute_result"
    }
   ],
   "source": [
    "new_df.shape\n"
   ]
  },
  {
   "cell_type": "code",
   "execution_count": 22,
   "metadata": {},
   "outputs": [
    {
     "data": {
      "text/html": [
       "<div>\n",
       "<style scoped>\n",
       "    .dataframe tbody tr th:only-of-type {\n",
       "        vertical-align: middle;\n",
       "    }\n",
       "\n",
       "    .dataframe tbody tr th {\n",
       "        vertical-align: top;\n",
       "    }\n",
       "\n",
       "    .dataframe thead th {\n",
       "        text-align: right;\n",
       "    }\n",
       "</style>\n",
       "<table border=\"1\" class=\"dataframe\">\n",
       "  <thead>\n",
       "    <tr style=\"text-align: right;\">\n",
       "      <th></th>\n",
       "      <th>Price</th>\n",
       "      <th>Locality</th>\n",
       "      <th>Sqft</th>\n",
       "    </tr>\n",
       "  </thead>\n",
       "  <tbody>\n",
       "    <tr>\n",
       "      <th>807</th>\n",
       "      <td>59</td>\n",
       "      <td>2</td>\n",
       "      <td>1425</td>\n",
       "    </tr>\n",
       "    <tr>\n",
       "      <th>1629</th>\n",
       "      <td>72</td>\n",
       "      <td>0</td>\n",
       "      <td>1295</td>\n",
       "    </tr>\n",
       "    <tr>\n",
       "      <th>830</th>\n",
       "      <td>79</td>\n",
       "      <td>1</td>\n",
       "      <td>1685</td>\n",
       "    </tr>\n",
       "    <tr>\n",
       "      <th>7</th>\n",
       "      <td>72</td>\n",
       "      <td>1</td>\n",
       "      <td>1249</td>\n",
       "    </tr>\n",
       "    <tr>\n",
       "      <th>849</th>\n",
       "      <td>64</td>\n",
       "      <td>0</td>\n",
       "      <td>1060</td>\n",
       "    </tr>\n",
       "  </tbody>\n",
       "</table>\n",
       "</div>"
      ],
      "text/plain": [
       "     Price  Locality  Sqft\n",
       "807     59         2  1425\n",
       "1629    72         0  1295\n",
       "830     79         1  1685\n",
       "7       72         1  1249\n",
       "849     64         0  1060"
      ]
     },
     "execution_count": 22,
     "metadata": {},
     "output_type": "execute_result"
    }
   ],
   "source": [
    "new_df.sample(5)"
   ]
  },
  {
   "cell_type": "code",
   "execution_count": 23,
   "metadata": {},
   "outputs": [
    {
     "data": {
      "text/plain": [
       "Locality\n",
       "0    57\n",
       "2    54\n",
       "1    47\n",
       "Name: count, dtype: int64"
      ]
     },
     "execution_count": 23,
     "metadata": {},
     "output_type": "execute_result"
    }
   ],
   "source": [
    "new_df['Locality'].value_counts()"
   ]
  },
  {
   "cell_type": "code",
   "execution_count": 24,
   "metadata": {},
   "outputs": [
    {
     "data": {
      "text/plain": [
       "<matplotlib.collections.PathCollection at 0x1f3507e8a40>"
      ]
     },
     "execution_count": 24,
     "metadata": {},
     "output_type": "execute_result"
    },
    {
     "data": {
      "image/png": "[encoded data removed]",
      "text/plain": [
       "<Figure size 640x480 with 1 Axes>"
      ]
     },
     "metadata": {},
     "output_type": "display_data"
    }
   ],
   "source": [
    "plt.scatter(new_df['Sqft'], new_df['Price'], c=new_df['Locality'],cmap='viridis')"
   ]
  },
  {
   "cell_type": "markdown",
   "metadata": {},
   "source": [
    "Training Decision Tree Model"
   ]
  },
  {
   "cell_type": "code",
   "execution_count": 25,
   "metadata": {},
   "outputs": [],
   "source": [
    "from sklearn.model_selection import train_test_split\n",
    "from sklearn.metrics import mean_squared_error, mean_absolute_error, r2_score, accuracy_score\n",
    "from sklearn.tree import DecisionTreeRegressor, plot_tree"
   ]
  },
  {
   "cell_type": "code",
   "execution_count": 26,
   "metadata": {},
   "outputs": [
    {
     "name": "stderr",
     "output_type": "stream",
     "text": [
      "C:\\Users\\divya\\AppData\\Local\\Temp\\ipykernel_8076\\60610952.py:1: SettingWithCopyWarning: \n",
      "A value is trying to be set on a copy of a slice from a DataFrame.\n",
      "Try using .loc[row_indexer,col_indexer] = value instead\n",
      "\n",
      "See the caveats in the documentation: https://pandas.pydata.org/pandas-docs/stable/user_guide/indexing.html#returning-a-view-versus-a-copy\n",
      "  new_df['Sqft'] = pd.to_numeric(new_df['Sqft'], errors='coerce')\n",
      "C:\\Users\\divya\\AppData\\Local\\Temp\\ipykernel_8076\\60610952.py:2: SettingWithCopyWarning: \n",
      "A value is trying to be set on a copy of a slice from a DataFrame.\n",
      "Try using .loc[row_indexer,col_indexer] = value instead\n",
      "\n",
      "See the caveats in the documentation: https://pandas.pydata.org/pandas-docs/stable/user_guide/indexing.html#returning-a-view-versus-a-copy\n",
      "  new_df['Price'] = pd.to_numeric(new_df['Price'], errors='coerce')\n"
     ]
    }
   ],
   "source": [
    "new_df['Sqft'] = pd.to_numeric(new_df['Sqft'], errors='coerce')\n",
    "new_df['Price'] = pd.to_numeric(new_df['Price'], errors='coerce')\n"
   ]
  },
  {
   "cell_type": "code",
   "execution_count": 27,
   "metadata": {},
   "outputs": [],
   "source": [
    "x_train, x_test, y_train, y_test = train_test_split(new_df.iloc[:,1:], new_df['Price'], test_size=0.2, random_state=43)"
   ]
  },
  {
   "cell_type": "code",
   "execution_count": 28,
   "metadata": {},
   "outputs": [
    {
     "data": {
      "text/html": [
       "<style>#sk-container-id-1 {\n",
       "  /* Definition of color scheme common for light and dark mode */\n",
       "  --sklearn-color-text: black;\n",
       "  --sklearn-color-line: gray;\n",
       "  /* Definition of color scheme for unfitted estimators */\n",
       "  --sklearn-color-unfitted-level-0: #fff5e6;\n",
       "  --sklearn-color-unfitted-level-1: #f6e4d2;\n",
       "  --sklearn-color-unfitted-level-2: #ffe0b3;\n",
       "  --sklearn-color-unfitted-level-3: chocolate;\n",
       "  /* Definition of color scheme for fitted estimators */\n",
       "  --sklearn-color-fitted-level-0: #f0f8ff;\n",
       "  --sklearn-color-fitted-level-1: #d4ebff;\n",
       "  --sklearn-color-fitted-level-2: #b3dbfd;\n",
       "  --sklearn-color-fitted-level-3: cornflowerblue;\n",
       "\n",
       "  /* Specific color for light theme */\n",
       "  --sklearn-color-text-on-default-background: var(--sg-text-color, var(--theme-code-foreground, var(--jp-content-font-color1, black)));\n",
       "  --sklearn-color-background: var(--sg-background-color, var(--theme-background, var(--jp-layout-color0, white)));\n",
       "  --sklearn-color-border-box: var(--sg-text-color, var(--theme-code-foreground, var(--jp-content-font-color1, black)));\n",
       "  --sklearn-color-icon: #696969;\n",
       "\n",
       "  @media (prefers-color-scheme: dark) {\n",
       "    /* Redefinition of color scheme for dark theme */\n",
       "    --sklearn-color-text-on-default-background: var(--sg-text-color, var(--theme-code-foreground, var(--jp-content-font-color1, white)));\n",
       "    --sklearn-color-background: var(--sg-background-color, var(--theme-background, var(--jp-layout-color0, #111)));\n",
       "    --sklearn-color-border-box: var(--sg-text-color, var(--theme-code-foreground, var(--jp-content-font-color1, white)));\n",
       "    --sklearn-color-icon: #878787;\n",
       "  }\n",
       "}\n",
       "\n",
       "#sk-container-id-1 {\n",
       "  color: var(--sklearn-color-text);\n",
       "}\n",
       "\n",
       "#sk-container-id-1 pre {\n",
       "  padding: 0;\n",
       "}\n",
       "\n",
       "#sk-container-id-1 input.sk-hidden--visually {\n",
       "  border: 0;\n",
       "  clip: rect(1px 1px 1px 1px);\n",
       "  clip: rect(1px, 1px, 1px, 1px);\n",
       "  height: 1px;\n",
       "  margin: -1px;\n",
       "  overflow: hidden;\n",
       "  padding: 0;\n",
       "  position: absolute;\n",
       "  width: 1px;\n",
       "}\n",
       "\n",
       "#sk-container-id-1 div.sk-dashed-wrapped {\n",
       "  border: 1px dashed var(--sklearn-color-line);\n",
       "  margin: 0 0.4em 0.5em 0.4em;\n",
       "  box-sizing: border-box;\n",
       "  padding-bottom: 0.4em;\n",
       "  background-color: var(--sklearn-color-background);\n",
       "}\n",
       "\n",
       "#sk-container-id-1 div.sk-container {\n",
       "  /* jupyter's `normalize.less` sets `[hidden] { display: none; }`\n",
       "     but bootstrap.min.css set `[hidden] { display: none !important; }`\n",
       "     so we also need the `!important` here to be able to override the\n",
       "     default hidden behavior on the sphinx rendered scikit-learn.org.\n",
       "     See: https://github.com/scikit-learn/scikit-learn/issues/21755 */\n",
       "  display: inline-block !important;\n",
       "  position: relative;\n",
       "}\n",
       "\n",
       "#sk-container-id-1 div.sk-text-repr-fallback {\n",
       "  display: none;\n",
       "}\n",
       "\n",
       "div.sk-parallel-item,\n",
       "div.sk-serial,\n",
       "div.sk-item {\n",
       "  /* draw centered vertical line to link estimators */\n",
       "  background-image: linear-gradient(var(--sklearn-color-text-on-default-background), var(--sklearn-color-text-on-default-background));\n",
       "  background-size: 2px 100%;\n",
       "  background-repeat: no-repeat;\n",
       "  background-position: center center;\n",
       "}\n",
       "\n",
       "/* Parallel-specific style estimator block */\n",
       "\n",
       "#sk-container-id-1 div.sk-parallel-item::after {\n",
       "  content: \"\";\n",
       "  width: 100%;\n",
       "  border-bottom: 2px solid var(--sklearn-color-text-on-default-background);\n",
       "  flex-grow: 1;\n",
       "}\n",
       "\n",
       "#sk-container-id-1 div.sk-parallel {\n",
       "  display: flex;\n",
       "  align-items: stretch;\n",
       "  justify-content: center;\n",
       "  background-color: var(--sklearn-color-background);\n",
       "  position: relative;\n",
       "}\n",
       "\n",
       "#sk-container-id-1 div.sk-parallel-item {\n",
       "  display: flex;\n",
       "  flex-direction: column;\n",
       "}\n",
       "\n",
       "#sk-container-id-1 div.sk-parallel-item:first-child::after {\n",
       "  align-self: flex-end;\n",
       "  width: 50%;\n",
       "}\n",
       "\n",
       "#sk-container-id-1 div.sk-parallel-item:last-child::after {\n",
       "  align-self: flex-start;\n",
       "  width: 50%;\n",
       "}\n",
       "\n",
       "#sk-container-id-1 div.sk-parallel-item:only-child::after {\n",
       "  width: 0;\n",
       "}\n",
       "\n",
       "/* Serial-specific style estimator block */\n",
       "\n",
       "#sk-container-id-1 div.sk-serial {\n",
       "  display: flex;\n",
       "  flex-direction: column;\n",
       "  align-items: center;\n",
       "  background-color: var(--sklearn-color-background);\n",
       "  padding-right: 1em;\n",
       "  padding-left: 1em;\n",
       "}\n",
       "\n",
       "\n",
       "/* Toggleable style: style used for estimator/Pipeline/ColumnTransformer box that is\n",
       "clickable and can be expanded/collapsed.\n",
       "- Pipeline and ColumnTransformer use this feature and define the default style\n",
       "- Estimators will overwrite some part of the style using the `sk-estimator` class\n",
       "*/\n",
       "\n",
       "/* Pipeline and ColumnTransformer style (default) */\n",
       "\n",
       "#sk-container-id-1 div.sk-toggleable {\n",
       "  /* Default theme specific background. It is overwritten whether we have a\n",
       "  specific estimator or a Pipeline/ColumnTransformer */\n",
       "  background-color: var(--sklearn-color-background);\n",
       "}\n",
       "\n",
       "/* Toggleable label */\n",
       "#sk-container-id-1 label.sk-toggleable__label {\n",
       "  cursor: pointer;\n",
       "  display: block;\n",
       "  width: 100%;\n",
       "  margin-bottom: 0;\n",
       "  padding: 0.5em;\n",
       "  box-sizing: border-box;\n",
       "  text-align: center;\n",
       "}\n",
       "\n",
       "#sk-container-id-1 label.sk-toggleable__label-arrow:before {\n",
       "  /* Arrow on the left of the label */\n",
       "  content: \"▸\";\n",
       "  float: left;\n",
       "  margin-right: 0.25em;\n",
       "  color: var(--sklearn-color-icon);\n",
       "}\n",
       "\n",
       "#sk-container-id-1 label.sk-toggleable__label-arrow:hover:before {\n",
       "  color: var(--sklearn-color-text);\n",
       "}\n",
       "\n",
       "/* Toggleable content - dropdown */\n",
       "\n",
       "#sk-container-id-1 div.sk-toggleable__content {\n",
       "  max-height: 0;\n",
       "  max-width: 0;\n",
       "  overflow: hidden;\n",
       "  text-align: left;\n",
       "  /* unfitted */\n",
       "  background-color: var(--sklearn-color-unfitted-level-0);\n",
       "}\n",
       "\n",
       "#sk-container-id-1 div.sk-toggleable__content.fitted {\n",
       "  /* fitted */\n",
       "  background-color: var(--sklearn-color-fitted-level-0);\n",
       "}\n",
       "\n",
       "#sk-container-id-1 div.sk-toggleable__content pre {\n",
       "  margin: 0.2em;\n",
       "  border-radius: 0.25em;\n",
       "  color: var(--sklearn-color-text);\n",
       "  /* unfitted */\n",
       "  background-color: var(--sklearn-color-unfitted-level-0);\n",
       "}\n",
       "\n",
       "#sk-container-id-1 div.sk-toggleable__content.fitted pre {\n",
       "  /* unfitted */\n",
       "  background-color: var(--sklearn-color-fitted-level-0);\n",
       "}\n",
       "\n",
       "#sk-container-id-1 input.sk-toggleable__control:checked~div.sk-toggleable__content {\n",
       "  /* Expand drop-down */\n",
       "  max-height: 200px;\n",
       "  max-width: 100%;\n",
       "  overflow: auto;\n",
       "}\n",
       "\n",
       "#sk-container-id-1 input.sk-toggleable__control:checked~label.sk-toggleable__label-arrow:before {\n",
       "  content: \"▾\";\n",
       "}\n",
       "\n",
       "/* Pipeline/ColumnTransformer-specific style */\n",
       "\n",
       "#sk-container-id-1 div.sk-label input.sk-toggleable__control:checked~label.sk-toggleable__label {\n",
       "  color: var(--sklearn-color-text);\n",
       "  background-color: var(--sklearn-color-unfitted-level-2);\n",
       "}\n",
       "\n",
       "#sk-container-id-1 div.sk-label.fitted input.sk-toggleable__control:checked~label.sk-toggleable__label {\n",
       "  background-color: var(--sklearn-color-fitted-level-2);\n",
       "}\n",
       "\n",
       "/* Estimator-specific style */\n",
       "\n",
       "/* Colorize estimator box */\n",
       "#sk-container-id-1 div.sk-estimator input.sk-toggleable__control:checked~label.sk-toggleable__label {\n",
       "  /* unfitted */\n",
       "  background-color: var(--sklearn-color-unfitted-level-2);\n",
       "}\n",
       "\n",
       "#sk-container-id-1 div.sk-estimator.fitted input.sk-toggleable__control:checked~label.sk-toggleable__label {\n",
       "  /* fitted */\n",
       "  background-color: var(--sklearn-color-fitted-level-2);\n",
       "}\n",
       "\n",
       "#sk-container-id-1 div.sk-label label.sk-toggleable__label,\n",
       "#sk-container-id-1 div.sk-label label {\n",
       "  /* The background is the default theme color */\n",
       "  color: var(--sklearn-color-text-on-default-background);\n",
       "}\n",
       "\n",
       "/* On hover, darken the color of the background */\n",
       "#sk-container-id-1 div.sk-label:hover label.sk-toggleable__label {\n",
       "  color: var(--sklearn-color-text);\n",
       "  background-color: var(--sklearn-color-unfitted-level-2);\n",
       "}\n",
       "\n",
       "/* Label box, darken color on hover, fitted */\n",
       "#sk-container-id-1 div.sk-label.fitted:hover label.sk-toggleable__label.fitted {\n",
       "  color: var(--sklearn-color-text);\n",
       "  background-color: var(--sklearn-color-fitted-level-2);\n",
       "}\n",
       "\n",
       "/* Estimator label */\n",
       "\n",
       "#sk-container-id-1 div.sk-label label {\n",
       "  font-family: monospace;\n",
       "  font-weight: bold;\n",
       "  display: inline-block;\n",
       "  line-height: 1.2em;\n",
       "}\n",
       "\n",
       "#sk-container-id-1 div.sk-label-container {\n",
       "  text-align: center;\n",
       "}\n",
       "\n",
       "/* Estimator-specific */\n",
       "#sk-container-id-1 div.sk-estimator {\n",
       "  font-family: monospace;\n",
       "  border: 1px dotted var(--sklearn-color-border-box);\n",
       "  border-radius: 0.25em;\n",
       "  box-sizing: border-box;\n",
       "  margin-bottom: 0.5em;\n",
       "  /* unfitted */\n",
       "  background-color: var(--sklearn-color-unfitted-level-0);\n",
       "}\n",
       "\n",
       "#sk-container-id-1 div.sk-estimator.fitted {\n",
       "  /* fitted */\n",
       "  background-color: var(--sklearn-color-fitted-level-0);\n",
       "}\n",
       "\n",
       "/* on hover */\n",
       "#sk-container-id-1 div.sk-estimator:hover {\n",
       "  /* unfitted */\n",
       "  background-color: var(--sklearn-color-unfitted-level-2);\n",
       "}\n",
       "\n",
       "#sk-container-id-1 div.sk-estimator.fitted:hover {\n",
       "  /* fitted */\n",
       "  background-color: var(--sklearn-color-fitted-level-2);\n",
       "}\n",
       "\n",
       "/* Specification for estimator info (e.g. \"i\" and \"?\") */\n",
       "\n",
       "/* Common style for \"i\" and \"?\" */\n",
       "\n",
       ".sk-estimator-doc-link,\n",
       "a:link.sk-estimator-doc-link,\n",
       "a:visited.sk-estimator-doc-link {\n",
       "  float: right;\n",
       "  font-size: smaller;\n",
       "  line-height: 1em;\n",
       "  font-family: monospace;\n",
       "  background-color: var(--sklearn-color-background);\n",
       "  border-radius: 1em;\n",
       "  height: 1em;\n",
       "  width: 1em;\n",
       "  text-decoration: none !important;\n",
       "  margin-left: 1ex;\n",
       "  /* unfitted */\n",
       "  border: var(--sklearn-color-unfitted-level-1) 1pt solid;\n",
       "  color: var(--sklearn-color-unfitted-level-1);\n",
       "}\n",
       "\n",
       ".sk-estimator-doc-link.fitted,\n",
       "a:link.sk-estimator-doc-link.fitted,\n",
       "a:visited.sk-estimator-doc-link.fitted {\n",
       "  /* fitted */\n",
       "  border: var(--sklearn-color-fitted-level-1) 1pt solid;\n",
       "  color: var(--sklearn-color-fitted-level-1);\n",
       "}\n",
       "\n",
       "/* On hover */\n",
       "div.sk-estimator:hover .sk-estimator-doc-link:hover,\n",
       ".sk-estimator-doc-link:hover,\n",
       "div.sk-label-container:hover .sk-estimator-doc-link:hover,\n",
       ".sk-estimator-doc-link:hover {\n",
       "  /* unfitted */\n",
       "  background-color: var(--sklearn-color-unfitted-level-3);\n",
       "  color: var(--sklearn-color-background);\n",
       "  text-decoration: none;\n",
       "}\n",
       "\n",
       "div.sk-estimator.fitted:hover .sk-estimator-doc-link.fitted:hover,\n",
       ".sk-estimator-doc-link.fitted:hover,\n",
       "div.sk-label-container:hover .sk-estimator-doc-link.fitted:hover,\n",
       ".sk-estimator-doc-link.fitted:hover {\n",
       "  /* fitted */\n",
       "  background-color: var(--sklearn-color-fitted-level-3);\n",
       "  color: var(--sklearn-color-background);\n",
       "  text-decoration: none;\n",
       "}\n",
       "\n",
       "/* Span, style for the box shown on hovering the info icon */\n",
       ".sk-estimator-doc-link span {\n",
       "  display: none;\n",
       "  z-index: 9999;\n",
       "  position: relative;\n",
       "  font-weight: normal;\n",
       "  right: .2ex;\n",
       "  padding: .5ex;\n",
       "  margin: .5ex;\n",
       "  width: min-content;\n",
       "  min-width: 20ex;\n",
       "  max-width: 50ex;\n",
       "  color: var(--sklearn-color-text);\n",
       "  box-shadow: 2pt 2pt 4pt #999;\n",
       "  /* unfitted */\n",
       "  background: var(--sklearn-color-unfitted-level-0);\n",
       "  border: .5pt solid var(--sklearn-color-unfitted-level-3);\n",
       "}\n",
       "\n",
       ".sk-estimator-doc-link.fitted span {\n",
       "  /* fitted */\n",
       "  background: var(--sklearn-color-fitted-level-0);\n",
       "  border: var(--sklearn-color-fitted-level-3);\n",
       "}\n",
       "\n",
       ".sk-estimator-doc-link:hover span {\n",
       "  display: block;\n",
       "}\n",
       "\n",
       "/* \"?\"-specific style due to the `<a>` HTML tag */\n",
       "\n",
       "#sk-container-id-1 a.estimator_doc_link {\n",
       "  float: right;\n",
       "  font-size: 1rem;\n",
       "  line-height: 1em;\n",
       "  font-family: monospace;\n",
       "  background-color: var(--sklearn-color-background);\n",
       "  border-radius: 1rem;\n",
       "  height: 1rem;\n",
       "  width: 1rem;\n",
       "  text-decoration: none;\n",
       "  /* unfitted */\n",
       "  color: var(--sklearn-color-unfitted-level-1);\n",
       "  border: var(--sklearn-color-unfitted-level-1) 1pt solid;\n",
       "}\n",
       "\n",
       "#sk-container-id-1 a.estimator_doc_link.fitted {\n",
       "  /* fitted */\n",
       "  border: var(--sklearn-color-fitted-level-1) 1pt solid;\n",
       "  color: var(--sklearn-color-fitted-level-1);\n",
       "}\n",
       "\n",
       "/* On hover */\n",
       "#sk-container-id-1 a.estimator_doc_link:hover {\n",
       "  /* unfitted */\n",
       "  background-color: var(--sklearn-color-unfitted-level-3);\n",
       "  color: var(--sklearn-color-background);\n",
       "  text-decoration: none;\n",
       "}\n",
       "\n",
       "#sk-container-id-1 a.estimator_doc_link.fitted:hover {\n",
       "  /* fitted */\n",
       "  background-color: var(--sklearn-color-fitted-level-3);\n",
       "}\n",
       "</style><div id=\"sk-container-id-1\" class=\"sk-top-container\"><div class=\"sk-text-repr-fallback\"><pre>DecisionTreeRegressor()</pre><b>In a Jupyter environment, please rerun this cell to show the HTML representation or trust the notebook. <br />On GitHub, the HTML representation is unable to render, please try loading this page with nbviewer.org.</b></div><div class=\"sk-container\" hidden><div class=\"sk-item\"><div class=\"sk-estimator fitted sk-toggleable\"><input class=\"sk-toggleable__control sk-hidden--visually\" id=\"sk-estimator-id-1\" type=\"checkbox\" checked><label for=\"sk-estimator-id-1\" class=\"sk-toggleable__label fitted sk-toggleable__label-arrow fitted\">&nbsp;&nbsp;DecisionTreeRegressor<a class=\"sk-estimator-doc-link fitted\" rel=\"noreferrer\" target=\"_blank\" href=\"https://scikit-learn.org/1.4/modules/generated/sklearn.tree.DecisionTreeRegressor.html\">?<span>Documentation for DecisionTreeRegressor</span></a><span class=\"sk-estimator-doc-link fitted\">i<span>Fitted</span></span></label><div class=\"sk-toggleable__content fitted\"><pre>DecisionTreeRegressor()</pre></div> </div></div></div></div>"
      ],
      "text/plain": [
       "DecisionTreeRegressor()"
      ]
     },
     "execution_count": 28,
     "metadata": {},
     "output_type": "execute_result"
    }
   ],
   "source": [
    "mod1 = DecisionTreeRegressor()\n",
    "mod1.fit(x_train, y_train)"
   ]
  },
  {
   "cell_type": "code",
   "execution_count": 29,
   "metadata": {},
   "outputs": [],
   "source": [
    "y_pred = mod1.predict(x_test)"
   ]
  },
  {
   "cell_type": "code",
   "execution_count": 30,
   "metadata": {},
   "outputs": [
    {
     "data": {
      "text/plain": [
       "0.6373618862872354"
      ]
     },
     "execution_count": 30,
     "metadata": {},
     "output_type": "execute_result"
    }
   ],
   "source": [
    "r2_score(y_pred,y_test)"
   ]
  },
  {
   "cell_type": "code",
   "execution_count": 31,
   "metadata": {},
   "outputs": [
    {
     "data": {
      "text/plain": [
       "96.86371527777779"
      ]
     },
     "execution_count": 31,
     "metadata": {},
     "output_type": "execute_result"
    }
   ],
   "source": [
    "mean_squared_error(y_test, y_pred)"
   ]
  },
  {
   "cell_type": "code",
   "execution_count": 32,
   "metadata": {},
   "outputs": [
    {
     "data": {
      "text/plain": [
       "<matplotlib.collections.PathCollection at 0x1f34dc85700>"
      ]
     },
     "execution_count": 32,
     "metadata": {},
     "output_type": "execute_result"
    },
    {
     "data": {
      "image/png": "[encoded data removed]",
      "text/plain": [
       "<Figure size 640x480 with 1 Axes>"
      ]
     },
     "metadata": {},
     "output_type": "display_data"
    }
   ],
   "source": [
    "plt.scatter(new_df['Sqft'], new_df['Price'], c=new_df['Locality'],cmap='viridis')\n",
    "# sqft_min, sqft_max = min(new_df['Sqft']), max(new_df['Sqft'])\n",
    "# price_min, price_max = min(new_df['Price']), max(new_df['Price'])\n",
    "# sqft_step = (sqft_max - sqft_min)/100 \n",
    "# price_step = (price_max - price_min)/10 \n",
    "# x = np.meshgrid(np.arange(sqft_min, sqft_max, sqft_step),np.arange(price_min, price_max, price_step))\n",
    "# #predictions = mod1.predict(np.c_[x[0].ravel(), x[1].ravel()]).reshape(x[0].shape)\n",
    "# plt.contourf(x[0], x[1], mod1.predict(np.c_[x[0].ravel(), x[1].ravel()]).reshape(x[0].shape), alpha=0.75, cmap='viridis')\n",
    "\n",
    "# #plt.contourf(x[0], x[1], predictions, alpha=0.75, cmap='viridis')\n",
    "# plt.show()\n",
    " "
   ]
  },
  {
   "cell_type": "code",
   "execution_count": 33,
   "metadata": {},
   "outputs": [],
   "source": [
    "# plot_tree(mod1, filled=True, feature_names=['Sqft', 'Locality'], rounded=True)\n"
   ]
  },
  {
   "cell_type": "markdown",
   "metadata": {},
   "source": [
    "Random Forest \n"
   ]
  },
  {
   "cell_type": "code",
   "execution_count": 34,
   "metadata": {},
   "outputs": [
    {
     "data": {
      "text/plain": [
       "0.7244446500719994"
      ]
     },
     "execution_count": 34,
     "metadata": {},
     "output_type": "execute_result"
    }
   ],
   "source": [
    "from sklearn.ensemble import RandomForestRegressor\n",
    "mod2 = RandomForestRegressor(n_estimators=6, random_state=0)\n",
    "mod2.fit(x_train, y_train)\n",
    "predictions = mod2.predict(x_test)\n",
    "r2_score(y_test, predictions)\n"
   ]
  },
  {
   "cell_type": "markdown",
   "metadata": {},
   "source": [
    "Saving the model"
   ]
  },
  {
   "cell_type": "code",
   "execution_count": 35,
   "metadata": {},
   "outputs": [],
   "source": [
    "import pickle\n",
    "saved_model = pickle.dumps(mod2)\n",
    "with open('forest_model.pkl', 'wb') as file:\n",
    "    pickle.dump(mod2, file)\n",
    "file.close()"
   ]
  },
  {
   "cell_type": "code",
   "execution_count": 36,
   "metadata": {},
   "outputs": [
    {
     "data": {
      "text/html": [
       "<div>\n",
       "<style scoped>\n",
       "    .dataframe tbody tr th:only-of-type {\n",
       "        vertical-align: middle;\n",
       "    }\n",
       "\n",
       "    .dataframe tbody tr th {\n",
       "        vertical-align: top;\n",
       "    }\n",
       "\n",
       "    .dataframe thead th {\n",
       "        text-align: right;\n",
       "    }\n",
       "</style>\n",
       "<table border=\"1\" class=\"dataframe\">\n",
       "  <thead>\n",
       "    <tr style=\"text-align: right;\">\n",
       "      <th></th>\n",
       "      <th>Locality</th>\n",
       "      <th>Sqft</th>\n",
       "    </tr>\n",
       "  </thead>\n",
       "  <tbody>\n",
       "    <tr>\n",
       "      <th>84</th>\n",
       "      <td>0</td>\n",
       "      <td>1240</td>\n",
       "    </tr>\n",
       "    <tr>\n",
       "      <th>1841</th>\n",
       "      <td>2</td>\n",
       "      <td>1285</td>\n",
       "    </tr>\n",
       "    <tr>\n",
       "      <th>1084</th>\n",
       "      <td>1</td>\n",
       "      <td>1200</td>\n",
       "    </tr>\n",
       "    <tr>\n",
       "      <th>619</th>\n",
       "      <td>0</td>\n",
       "      <td>1600</td>\n",
       "    </tr>\n",
       "    <tr>\n",
       "      <th>367</th>\n",
       "      <td>2</td>\n",
       "      <td>900</td>\n",
       "    </tr>\n",
       "    <tr>\n",
       "      <th>...</th>\n",
       "      <td>...</td>\n",
       "      <td>...</td>\n",
       "    </tr>\n",
       "    <tr>\n",
       "      <th>535</th>\n",
       "      <td>2</td>\n",
       "      <td>1193</td>\n",
       "    </tr>\n",
       "    <tr>\n",
       "      <th>168</th>\n",
       "      <td>2</td>\n",
       "      <td>1440</td>\n",
       "    </tr>\n",
       "    <tr>\n",
       "      <th>500</th>\n",
       "      <td>0</td>\n",
       "      <td>1355</td>\n",
       "    </tr>\n",
       "    <tr>\n",
       "      <th>599</th>\n",
       "      <td>1</td>\n",
       "      <td>1812</td>\n",
       "    </tr>\n",
       "    <tr>\n",
       "      <th>724</th>\n",
       "      <td>0</td>\n",
       "      <td>1008</td>\n",
       "    </tr>\n",
       "  </tbody>\n",
       "</table>\n",
       "<p>126 rows × 2 columns</p>\n",
       "</div>"
      ],
      "text/plain": [
       "      Locality  Sqft\n",
       "84           0  1240\n",
       "1841         2  1285\n",
       "1084         1  1200\n",
       "619          0  1600\n",
       "367          2   900\n",
       "...        ...   ...\n",
       "535          2  1193\n",
       "168          2  1440\n",
       "500          0  1355\n",
       "599          1  1812\n",
       "724          0  1008\n",
       "\n",
       "[126 rows x 2 columns]"
      ]
     },
     "execution_count": 36,
     "metadata": {},
     "output_type": "execute_result"
    }
   ],
   "source": [
    "x_train"
   ]
  },
  {
   "cell_type": "code",
   "execution_count": 37,
   "metadata": {},
   "outputs": [
    {
     "name": "stderr",
     "output_type": "stream",
     "text": [
      "C:\\Users\\divya\\AppData\\Roaming\\Python\\Python312\\site-packages\\sklearn\\base.py:493: UserWarning: X does not have valid feature names, but DecisionTreeRegressor was fitted with feature names\n",
      "  warnings.warn(\n"
     ]
    },
    {
     "data": {
      "text/plain": [
       "array([89.])"
      ]
     },
     "execution_count": 37,
     "metadata": {},
     "output_type": "execute_result"
    }
   ],
   "source": [
    "mod1.predict([[0,2000]])"
   ]
  },
  {
   "cell_type": "code",
   "execution_count": 38,
   "metadata": {},
   "outputs": [
    {
     "data": {
      "text/plain": [
       "array([72.        , 73.66666667, 50.        , 60.        , 80.        ,\n",
       "       73.66666667, 50.        , 85.        , 70.5       , 72.        ,\n",
       "       45.        , 48.        , 99.        , 55.        , 98.        ,\n",
       "       48.        , 48.        , 86.        , 65.        , 48.        ,\n",
       "       60.        , 88.        , 50.        , 53.5       , 50.        ,\n",
       "       65.5       , 82.        , 51.        , 82.        , 72.        ,\n",
       "       84.        , 42.        ])"
      ]
     },
     "execution_count": 38,
     "metadata": {},
     "output_type": "execute_result"
    }
   ],
   "source": [
    "y_pred"
   ]
  },
  {
   "cell_type": "code",
   "execution_count": 39,
   "metadata": {},
   "outputs": [
    {
     "data": {
      "text/plain": [
       "array([76.33333333, 64.5       , 48.75277778, 57.80555556, 78.16666667,\n",
       "       74.575     , 48.75277778, 80.66666667, 70.65277778, 76.33333333,\n",
       "       60.        , 60.        , 93.        , 56.97619048, 92.33333333,\n",
       "       60.        , 60.        , 81.16666667, 64.16666667, 60.66666667,\n",
       "       57.80555556, 80.83333333, 48.75277778, 64.875     , 48.75277778,\n",
       "       65.5       , 80.33333333, 57.        , 79.33333333, 65.83333333,\n",
       "       79.16666667, 45.83333333])"
      ]
     },
     "execution_count": 39,
     "metadata": {},
     "output_type": "execute_result"
    }
   ],
   "source": [
    "predictions"
   ]
  },
  {
   "cell_type": "code",
   "execution_count": null,
   "metadata": {},
   "outputs": [],
   "source": []
  }
 ],
 "metadata": {
  "kernelspec": {
   "display_name": "Python 3",
   "language": "python",
   "name": "python3"
  },
  "language_info": {
   "codemirror_mode": {
    "name": "ipython",
    "version": 3
   },
   "file_extension": ".py",
   "mimetype": "text/x-python",
   "name": "python",
   "nbconvert_exporter": "python",
   "pygments_lexer": "ipython3",
   "version": "3.12.1"
  }
 },
 "nbformat": 4,
 "nbformat_minor": 2
}
