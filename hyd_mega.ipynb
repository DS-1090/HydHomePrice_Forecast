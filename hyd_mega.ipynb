{
  "cells": [
    {
      "cell_type": "code",
      "execution_count": 2,
      "metadata": {
        "id": "ILsWd0EIsN8L"
      },
      "outputs": [],
      "source": [
        "import pandas as pd\n",
        "import numpy as np\n",
        "import matplotlib.pyplot as plt\n",
        "import sklearn\n",
        "from sklearn.model_selection import train_test_split\n",
        "from sklearn.preprocessing import StandardScaler\n",
        "from sklearn.ensemble import RandomForestRegressor\n"
      ]
    },
    {
      "cell_type": "markdown",
      "metadata": {
        "id": "lJFBmmIdEDD0"
      },
      "source": [
        "Data Cleaning"
      ]
    },
    {
      "cell_type": "code",
      "execution_count": 3,
      "metadata": {
        "id": "ualfOVimsd2l"
      },
      "outputs": [],
      "source": [
        "files = ['data/hyderabad_first_type_000.csv', 'data/hyderabad_first_type_100.csv', 'data/hyderabad_first_type_200.csv','data/hyderabad_first_type_300.csv']\n",
        "df_list = [pd.read_csv(f) for f in files]\n"
      ]
    },
    {
      "cell_type": "code",
      "execution_count": 4,
      "metadata": {
        "id": "woQdi30bvFvM"
      },
      "outputs": [],
      "source": [
        "df = pd.concat(df_list, ignore_index=True)"
      ]
    },
    {
      "cell_type": "code",
      "execution_count": 5,
      "metadata": {
        "colab": {
          "base_uri": "https://localhost:8080/"
        },
        "id": "5Vq_nqfyvKEv",
        "outputId": "5c308ebe-21b5-4bd6-c151-a6c01323ba7b"
      },
      "outputs": [
        {
          "data": {
            "text/plain": [
              "(9866, 13)"
            ]
          },
          "execution_count": 5,
          "metadata": {},
          "output_type": "execute_result"
        }
      ],
      "source": [
        "df.shape"
      ]
    },
    {
      "cell_type": "code",
      "execution_count": 6,
      "metadata": {
        "colab": {
          "base_uri": "https://localhost:8080/"
        },
        "id": "ym1C_j-0vkcp",
        "outputId": "6dd87a83-ae19-4a52-83b8-35fc59e2dcaa"
      },
      "outputs": [
        {
          "data": {
            "text/plain": [
              "Price                0\n",
              "Carpet Area       8036\n",
              "Bedrooms            32\n",
              "Builder           9590\n",
              "Paid User            0\n",
              "Locality           665\n",
              "Property Type        0\n",
              "User Type            0\n",
              "Prime Location       0\n",
              "Agent                1\n",
              "Link                 0\n",
              "Prop ID              0\n",
              "Other                0\n",
              "dtype: int64"
            ]
          },
          "execution_count": 6,
          "metadata": {},
          "output_type": "execute_result"
        }
      ],
      "source": [
        "df.isnull().sum()"
      ]
    },
    {
      "cell_type": "code",
      "execution_count": 7,
      "metadata": {
        "id": "Kxp8DHAyvnrO"
      },
      "outputs": [],
      "source": [
        "df['Locality'].dropna(inplace=True)\n"
      ]
    },
    {
      "cell_type": "code",
      "execution_count": 8,
      "metadata": {
        "colab": {
          "base_uri": "https://localhost:8080/",
          "height": 747
        },
        "id": "LNf16gGqv7Xr",
        "outputId": "928c510b-203c-461d-cb74-631e036c0263"
      },
      "outputs": [
        {
          "data": {
            "text/html": [
              "<div>\n",
              "<style scoped>\n",
              "    .dataframe tbody tr th:only-of-type {\n",
              "        vertical-align: middle;\n",
              "    }\n",
              "\n",
              "    .dataframe tbody tr th {\n",
              "        vertical-align: top;\n",
              "    }\n",
              "\n",
              "    .dataframe thead th {\n",
              "        text-align: right;\n",
              "    }\n",
              "</style>\n",
              "<table border=\"1\" class=\"dataframe\">\n",
              "  <thead>\n",
              "    <tr style=\"text-align: right;\">\n",
              "      <th></th>\n",
              "      <th>Price</th>\n",
              "      <th>Carpet Area</th>\n",
              "      <th>Bedrooms</th>\n",
              "      <th>Builder</th>\n",
              "      <th>Paid User</th>\n",
              "      <th>Locality</th>\n",
              "      <th>Property Type</th>\n",
              "      <th>User Type</th>\n",
              "      <th>Prime Location</th>\n",
              "      <th>Agent</th>\n",
              "      <th>Link</th>\n",
              "      <th>Prop ID</th>\n",
              "      <th>Other</th>\n",
              "    </tr>\n",
              "  </thead>\n",
              "  <tbody>\n",
              "    <tr>\n",
              "      <th>3809</th>\n",
              "      <td>1.04 Cr</td>\n",
              "      <td>NaN</td>\n",
              "      <td>1</td>\n",
              "      <td>NaN</td>\n",
              "      <td>N</td>\n",
              "      <td>Apurupa Colony, Suraram</td>\n",
              "      <td>Apartment</td>\n",
              "      <td>Owner</td>\n",
              "      <td>Y</td>\n",
              "      <td>Narsimha</td>\n",
              "      <td>https://www.magicbricks.com/propertyDetails/1-...</td>\n",
              "      <td>domcache_srp_48559239</td>\n",
              "      <td>***super area*460 sqft****status*Ready to Move...</td>\n",
              "    </tr>\n",
              "    <tr>\n",
              "      <th>9439</th>\n",
              "      <td>92 Lac</td>\n",
              "      <td>NaN</td>\n",
              "      <td>3</td>\n",
              "      <td>NaN</td>\n",
              "      <td>N</td>\n",
              "      <td>Aminpur</td>\n",
              "      <td>Residential House</td>\n",
              "      <td>Owner</td>\n",
              "      <td>Y</td>\n",
              "      <td>Sameer</td>\n",
              "      <td>https://www.magicbricks.com/propertyDetails/3-...</td>\n",
              "      <td>domcache_srp_55149775</td>\n",
              "      <td>***super area*135 sqyrd****status*Ready to Mov...</td>\n",
              "    </tr>\n",
              "    <tr>\n",
              "      <th>2775</th>\n",
              "      <td>60 Lac</td>\n",
              "      <td>NaN</td>\n",
              "      <td>2</td>\n",
              "      <td>NaN</td>\n",
              "      <td>N</td>\n",
              "      <td>Sai Baba Nagar Colony, Secunderabad</td>\n",
              "      <td>Apartment</td>\n",
              "      <td>Owner</td>\n",
              "      <td>Y</td>\n",
              "      <td>chakrapani</td>\n",
              "      <td>https://www.magicbricks.com/propertyDetails/2-...</td>\n",
              "      <td>domcache_srp_46414221</td>\n",
              "      <td>***super area*1050 sqft****status*Ready to Mov...</td>\n",
              "    </tr>\n",
              "    <tr>\n",
              "      <th>5408</th>\n",
              "      <td>89.4 Lac</td>\n",
              "      <td>N</td>\n",
              "      <td>2</td>\n",
              "      <td>NaN</td>\n",
              "      <td>N</td>\n",
              "      <td>Kokapet, Outer Ring Road</td>\n",
              "      <td>Apartment</td>\n",
              "      <td>Owner</td>\n",
              "      <td>Y</td>\n",
              "      <td>Reddy</td>\n",
              "      <td>https://www.magicbricks.com/propertyDetails/2-...</td>\n",
              "      <td>domcache_srp_55939229</td>\n",
              "      <td>***super area*1345 sqft****status**\\t\\t\\t\\t\\t\\...</td>\n",
              "    </tr>\n",
              "    <tr>\n",
              "      <th>140</th>\n",
              "      <td>75.3 Lac</td>\n",
              "      <td>NaN</td>\n",
              "      <td>3</td>\n",
              "      <td>NaN</td>\n",
              "      <td>Y</td>\n",
              "      <td>Champapet, Koti</td>\n",
              "      <td>Apartment</td>\n",
              "      <td>Owner</td>\n",
              "      <td>Y</td>\n",
              "      <td>leela kumar</td>\n",
              "      <td>https://www.magicbricks.com/propertyDetails/3-...</td>\n",
              "      <td>domcache_srp_55662917</td>\n",
              "      <td>***carpet area*1350 sqft****status*Ready to Mo...</td>\n",
              "    </tr>\n",
              "    <tr>\n",
              "      <th>2000</th>\n",
              "      <td>1.25 Cr</td>\n",
              "      <td>NaN</td>\n",
              "      <td>3</td>\n",
              "      <td>NaN</td>\n",
              "      <td>N</td>\n",
              "      <td>Tellapur, Outer Ring Road</td>\n",
              "      <td>Apartment</td>\n",
              "      <td>Owner</td>\n",
              "      <td>Y</td>\n",
              "      <td>Sudheer</td>\n",
              "      <td>https://www.magicbricks.com/propertyDetails/3-...</td>\n",
              "      <td>domcache_srp_56339983</td>\n",
              "      <td>***carpet area*2339 sqft****status*Ready to Mo...</td>\n",
              "    </tr>\n",
              "    <tr>\n",
              "      <th>2454</th>\n",
              "      <td>75 Lac</td>\n",
              "      <td>N</td>\n",
              "      <td>2</td>\n",
              "      <td>NaN</td>\n",
              "      <td>N</td>\n",
              "      <td>NaN</td>\n",
              "      <td>Apartment</td>\n",
              "      <td>Owner</td>\n",
              "      <td>Y</td>\n",
              "      <td>Nousheen Sultana</td>\n",
              "      <td>https://www.magicbricks.com/propertyDetails/2-...</td>\n",
              "      <td>domcache_srp_52979933</td>\n",
              "      <td>***carpet area*1240 sqft****status**\\t\\t\\t\\t\\t...</td>\n",
              "    </tr>\n",
              "    <tr>\n",
              "      <th>1405</th>\n",
              "      <td>53 Lac</td>\n",
              "      <td>NaN</td>\n",
              "      <td>3</td>\n",
              "      <td>NaN</td>\n",
              "      <td>N</td>\n",
              "      <td>Bachupally</td>\n",
              "      <td>Apartment</td>\n",
              "      <td>Owner</td>\n",
              "      <td>Y</td>\n",
              "      <td>Kranthi Koganti</td>\n",
              "      <td>https://www.magicbricks.com/propertyDetails/3-...</td>\n",
              "      <td>domcache_srp_56370065</td>\n",
              "      <td>***carpet area*1250 sqft****status*Ready to Mo...</td>\n",
              "    </tr>\n",
              "    <tr>\n",
              "      <th>5268</th>\n",
              "      <td>38 Lac</td>\n",
              "      <td>NaN</td>\n",
              "      <td>2</td>\n",
              "      <td>NaN</td>\n",
              "      <td>N</td>\n",
              "      <td>Nagaram</td>\n",
              "      <td>Apartment</td>\n",
              "      <td>Owner</td>\n",
              "      <td>Y</td>\n",
              "      <td>sai</td>\n",
              "      <td>https://www.magicbricks.com/propertyDetails/2-...</td>\n",
              "      <td>domcache_srp_55388769</td>\n",
              "      <td>***carpet area*1200 sqft****status*Ready to Mo...</td>\n",
              "    </tr>\n",
              "    <tr>\n",
              "      <th>8500</th>\n",
              "      <td>1.40 Cr</td>\n",
              "      <td>NaN</td>\n",
              "      <td>4</td>\n",
              "      <td>NaN</td>\n",
              "      <td>N</td>\n",
              "      <td>Mayuri Nagar, Miyapur</td>\n",
              "      <td>Residential House</td>\n",
              "      <td>Owner</td>\n",
              "      <td>Y</td>\n",
              "      <td>Joseph reddy</td>\n",
              "      <td>https://www.magicbricks.com/propertyDetails/4-...</td>\n",
              "      <td>domcache_srp_54080677</td>\n",
              "      <td>***carpet area*132 sqft****status*Ready to Mov...</td>\n",
              "    </tr>\n",
              "  </tbody>\n",
              "</table>\n",
              "</div>"
            ],
            "text/plain": [
              "         Price Carpet Area Bedrooms Builder Paid User  \\\n",
              "3809   1.04 Cr         NaN        1     NaN         N   \n",
              "9439    92 Lac         NaN        3     NaN         N   \n",
              "2775    60 Lac         NaN        2     NaN         N   \n",
              "5408  89.4 Lac           N        2     NaN         N   \n",
              "140   75.3 Lac         NaN        3     NaN         Y   \n",
              "2000   1.25 Cr         NaN        3     NaN         N   \n",
              "2454    75 Lac           N        2     NaN         N   \n",
              "1405    53 Lac         NaN        3     NaN         N   \n",
              "5268    38 Lac         NaN        2     NaN         N   \n",
              "8500   1.40 Cr         NaN        4     NaN         N   \n",
              "\n",
              "                                 Locality      Property Type User Type  \\\n",
              "3809              Apurupa Colony, Suraram          Apartment     Owner   \n",
              "9439                              Aminpur  Residential House     Owner   \n",
              "2775  Sai Baba Nagar Colony, Secunderabad          Apartment     Owner   \n",
              "5408             Kokapet, Outer Ring Road          Apartment     Owner   \n",
              "140                       Champapet, Koti          Apartment     Owner   \n",
              "2000            Tellapur, Outer Ring Road          Apartment     Owner   \n",
              "2454                                  NaN          Apartment     Owner   \n",
              "1405                           Bachupally          Apartment     Owner   \n",
              "5268                              Nagaram          Apartment     Owner   \n",
              "8500                Mayuri Nagar, Miyapur  Residential House     Owner   \n",
              "\n",
              "     Prime Location             Agent  \\\n",
              "3809              Y          Narsimha   \n",
              "9439              Y            Sameer   \n",
              "2775              Y        chakrapani   \n",
              "5408              Y             Reddy   \n",
              "140               Y       leela kumar   \n",
              "2000              Y           Sudheer   \n",
              "2454              Y  Nousheen Sultana   \n",
              "1405              Y   Kranthi Koganti   \n",
              "5268              Y               sai   \n",
              "8500              Y      Joseph reddy   \n",
              "\n",
              "                                                   Link  \\\n",
              "3809  https://www.magicbricks.com/propertyDetails/1-...   \n",
              "9439  https://www.magicbricks.com/propertyDetails/3-...   \n",
              "2775  https://www.magicbricks.com/propertyDetails/2-...   \n",
              "5408  https://www.magicbricks.com/propertyDetails/2-...   \n",
              "140   https://www.magicbricks.com/propertyDetails/3-...   \n",
              "2000  https://www.magicbricks.com/propertyDetails/3-...   \n",
              "2454  https://www.magicbricks.com/propertyDetails/2-...   \n",
              "1405  https://www.magicbricks.com/propertyDetails/3-...   \n",
              "5268  https://www.magicbricks.com/propertyDetails/2-...   \n",
              "8500  https://www.magicbricks.com/propertyDetails/4-...   \n",
              "\n",
              "                    Prop ID                                              Other  \n",
              "3809  domcache_srp_48559239  ***super area*460 sqft****status*Ready to Move...  \n",
              "9439  domcache_srp_55149775  ***super area*135 sqyrd****status*Ready to Mov...  \n",
              "2775  domcache_srp_46414221  ***super area*1050 sqft****status*Ready to Mov...  \n",
              "5408  domcache_srp_55939229  ***super area*1345 sqft****status**\\t\\t\\t\\t\\t\\...  \n",
              "140   domcache_srp_55662917  ***carpet area*1350 sqft****status*Ready to Mo...  \n",
              "2000  domcache_srp_56339983  ***carpet area*2339 sqft****status*Ready to Mo...  \n",
              "2454  domcache_srp_52979933  ***carpet area*1240 sqft****status**\\t\\t\\t\\t\\t...  \n",
              "1405  domcache_srp_56370065  ***carpet area*1250 sqft****status*Ready to Mo...  \n",
              "5268  domcache_srp_55388769  ***carpet area*1200 sqft****status*Ready to Mo...  \n",
              "8500  domcache_srp_54080677  ***carpet area*132 sqft****status*Ready to Mov...  "
            ]
          },
          "execution_count": 8,
          "metadata": {},
          "output_type": "execute_result"
        }
      ],
      "source": [
        "df.sample(10)"
      ]
    },
    {
      "cell_type": "code",
      "execution_count": 9,
      "metadata": {
        "id": "TpVi74ZYv-XH"
      },
      "outputs": [],
      "source": [
        "df.drop(columns=['Carpet Area','Agent','Builder','Paid User','User Type','Prime Location','Prop ID'], inplace=True)"
      ]
    },
    {
      "cell_type": "code",
      "execution_count": 10,
      "metadata": {
        "colab": {
          "base_uri": "https://localhost:8080/",
          "height": 310
        },
        "id": "x6X6PHfAwYvH",
        "outputId": "b73ce3e9-a9a3-4254-b8cf-1589eecbb69b"
      },
      "outputs": [
        {
          "data": {
            "text/html": [
              "<div>\n",
              "<style scoped>\n",
              "    .dataframe tbody tr th:only-of-type {\n",
              "        vertical-align: middle;\n",
              "    }\n",
              "\n",
              "    .dataframe tbody tr th {\n",
              "        vertical-align: top;\n",
              "    }\n",
              "\n",
              "    .dataframe thead th {\n",
              "        text-align: right;\n",
              "    }\n",
              "</style>\n",
              "<table border=\"1\" class=\"dataframe\">\n",
              "  <thead>\n",
              "    <tr style=\"text-align: right;\">\n",
              "      <th></th>\n",
              "      <th>Price</th>\n",
              "      <th>Bedrooms</th>\n",
              "      <th>Locality</th>\n",
              "      <th>Property Type</th>\n",
              "      <th>Link</th>\n",
              "      <th>Other</th>\n",
              "    </tr>\n",
              "  </thead>\n",
              "  <tbody>\n",
              "    <tr>\n",
              "      <th>0</th>\n",
              "      <td>49.3 Lac</td>\n",
              "      <td>2</td>\n",
              "      <td>Adibatla</td>\n",
              "      <td>Apartment</td>\n",
              "      <td>https://www.magicbricks.com/propertyDetails/2-...</td>\n",
              "      <td>***super area*1285 sqft*****transaction*New Pr...</td>\n",
              "    </tr>\n",
              "    <tr>\n",
              "      <th>1</th>\n",
              "      <td>79.9 Lac</td>\n",
              "      <td>2</td>\n",
              "      <td>Manikonda, Outer Ring Road</td>\n",
              "      <td>Apartment</td>\n",
              "      <td>https://www.magicbricks.com/propertyDetails/2-...</td>\n",
              "      <td>***super area*1268 sqft****status*Ready to Mov...</td>\n",
              "    </tr>\n",
              "    <tr>\n",
              "      <th>2</th>\n",
              "      <td>86.3 Lac</td>\n",
              "      <td>2</td>\n",
              "      <td>Hitech City</td>\n",
              "      <td>Apartment</td>\n",
              "      <td>https://www.magicbricks.com/propertyDetails/2-...</td>\n",
              "      <td>***super area*1150 sqft****status*Ready to Mov...</td>\n",
              "    </tr>\n",
              "    <tr>\n",
              "      <th>3</th>\n",
              "      <td>40.9 Lac</td>\n",
              "      <td>2</td>\n",
              "      <td>Aminpur</td>\n",
              "      <td>Apartment</td>\n",
              "      <td>https://www.magicbricks.com/propertyDetails/2-...</td>\n",
              "      <td>***super area*918 sqft****status**\\t\\t\\t\\t\\t\\t...</td>\n",
              "    </tr>\n",
              "    <tr>\n",
              "      <th>4</th>\n",
              "      <td>1.35 Cr</td>\n",
              "      <td>3</td>\n",
              "      <td>Shaikpet</td>\n",
              "      <td>Apartment</td>\n",
              "      <td>https://www.magicbricks.com/propertyDetails/3-...</td>\n",
              "      <td>***super area*1895 sqft****status**\\t\\t\\t\\t\\t\\...</td>\n",
              "    </tr>\n",
              "  </tbody>\n",
              "</table>\n",
              "</div>"
            ],
            "text/plain": [
              "      Price Bedrooms                    Locality Property Type  \\\n",
              "0  49.3 Lac        2                    Adibatla     Apartment   \n",
              "1  79.9 Lac        2  Manikonda, Outer Ring Road     Apartment   \n",
              "2  86.3 Lac        2                 Hitech City     Apartment   \n",
              "3  40.9 Lac        2                     Aminpur     Apartment   \n",
              "4   1.35 Cr        3                    Shaikpet     Apartment   \n",
              "\n",
              "                                                Link  \\\n",
              "0  https://www.magicbricks.com/propertyDetails/2-...   \n",
              "1  https://www.magicbricks.com/propertyDetails/2-...   \n",
              "2  https://www.magicbricks.com/propertyDetails/2-...   \n",
              "3  https://www.magicbricks.com/propertyDetails/2-...   \n",
              "4  https://www.magicbricks.com/propertyDetails/3-...   \n",
              "\n",
              "                                               Other  \n",
              "0  ***super area*1285 sqft*****transaction*New Pr...  \n",
              "1  ***super area*1268 sqft****status*Ready to Mov...  \n",
              "2  ***super area*1150 sqft****status*Ready to Mov...  \n",
              "3  ***super area*918 sqft****status**\\t\\t\\t\\t\\t\\t...  \n",
              "4  ***super area*1895 sqft****status**\\t\\t\\t\\t\\t\\...  "
            ]
          },
          "execution_count": 10,
          "metadata": {},
          "output_type": "execute_result"
        }
      ],
      "source": [
        "df.head()"
      ]
    },
    {
      "cell_type": "code",
      "execution_count": 11,
      "metadata": {
        "colab": {
          "base_uri": "https://localhost:8080/",
          "height": 35
        },
        "id": "H_DtH1IfwZ-F",
        "outputId": "cbc2e707-caa6-414b-84f8-940553261843"
      },
      "outputs": [
        {
          "data": {
            "text/plain": [
              "'***super area*1285\\xa0sqft*****transaction*New Property***furnishing*Unfurnished***car parking*1 Covered***bathroom*2**'"
            ]
          },
          "execution_count": 11,
          "metadata": {},
          "output_type": "execute_result"
        }
      ],
      "source": [
        "df['Other'][0]"
      ]
    },
    {
      "cell_type": "code",
      "execution_count": 12,
      "metadata": {
        "colab": {
          "base_uri": "https://localhost:8080/",
          "height": 53
        },
        "id": "Hs-TGWt6wgHx",
        "outputId": "75027f4e-99c5-484d-cbb5-18da01067ca0"
      },
      "outputs": [
        {
          "data": {
            "text/plain": [
              "'https://www.magicbricks.com/propertyDetails/2-BHK-1285-Sq-ft-Multistorey-Apartment-FOR-Sale-Adibatla-in-Hyderabad&id=4d423534333634343537?sem=Y&semsrc=CPLADS_1_PDP_Existing_Web&slot=1'"
            ]
          },
          "execution_count": 12,
          "metadata": {},
          "output_type": "execute_result"
        }
      ],
      "source": [
        "df['Link'][0]"
      ]
    },
    {
      "cell_type": "code",
      "execution_count": 13,
      "metadata": {
        "id": "RB3EfMA930Tq"
      },
      "outputs": [],
      "source": [
        "df.drop(columns=['Other'], inplace=True)"
      ]
    },
    {
      "cell_type": "code",
      "execution_count": 14,
      "metadata": {
        "id": "6dA1Qx-84A6E"
      },
      "outputs": [],
      "source": [
        "pattern = r'(\\d+)-Sq-ft'\n",
        "df['Sqft'] = df['Link'].str.extract(pattern)\n"
      ]
    },
    {
      "cell_type": "code",
      "execution_count": 15,
      "metadata": {
        "colab": {
          "base_uri": "https://localhost:8080/",
          "height": 80
        },
        "id": "-zDMmfW44f2T",
        "outputId": "55d83441-3679-4b71-d400-0c4d40d67fdd"
      },
      "outputs": [
        {
          "data": {
            "text/html": [
              "<div>\n",
              "<style scoped>\n",
              "    .dataframe tbody tr th:only-of-type {\n",
              "        vertical-align: middle;\n",
              "    }\n",
              "\n",
              "    .dataframe tbody tr th {\n",
              "        vertical-align: top;\n",
              "    }\n",
              "\n",
              "    .dataframe thead th {\n",
              "        text-align: right;\n",
              "    }\n",
              "</style>\n",
              "<table border=\"1\" class=\"dataframe\">\n",
              "  <thead>\n",
              "    <tr style=\"text-align: right;\">\n",
              "      <th></th>\n",
              "      <th>Price</th>\n",
              "      <th>Bedrooms</th>\n",
              "      <th>Locality</th>\n",
              "      <th>Property Type</th>\n",
              "      <th>Link</th>\n",
              "      <th>Sqft</th>\n",
              "    </tr>\n",
              "  </thead>\n",
              "  <tbody>\n",
              "    <tr>\n",
              "      <th>9854</th>\n",
              "      <td>55 Lac</td>\n",
              "      <td>2</td>\n",
              "      <td>Neknampur, Manikonda, Outer Ring Road</td>\n",
              "      <td>Apartment</td>\n",
              "      <td>https://www.magicbricks.com/propertyDetails/2-...</td>\n",
              "      <td>1200</td>\n",
              "    </tr>\n",
              "  </tbody>\n",
              "</table>\n",
              "</div>"
            ],
            "text/plain": [
              "       Price Bedrooms                               Locality Property Type  \\\n",
              "9854  55 Lac        2  Neknampur, Manikonda, Outer Ring Road     Apartment   \n",
              "\n",
              "                                                   Link  Sqft  \n",
              "9854  https://www.magicbricks.com/propertyDetails/2-...  1200  "
            ]
          },
          "execution_count": 15,
          "metadata": {},
          "output_type": "execute_result"
        }
      ],
      "source": [
        "df.sample()"
      ]
    },
    {
      "cell_type": "code",
      "execution_count": 16,
      "metadata": {
        "id": "wa9krMHo4hXp"
      },
      "outputs": [],
      "source": [
        "df.drop(columns=['Link'], inplace=True)"
      ]
    },
    {
      "cell_type": "code",
      "execution_count": 17,
      "metadata": {
        "colab": {
          "base_uri": "https://localhost:8080/"
        },
        "id": "malFFzEm4kln",
        "outputId": "6f3df514-f87a-48f5-b6a6-53b9c26ff613"
      },
      "outputs": [
        {
          "data": {
            "text/plain": [
              "1039"
            ]
          },
          "execution_count": 17,
          "metadata": {},
          "output_type": "execute_result"
        }
      ],
      "source": [
        "len(df['Locality'].unique())"
      ]
    },
    {
      "cell_type": "code",
      "execution_count": 18,
      "metadata": {
        "colab": {
          "base_uri": "https://localhost:8080/"
        },
        "id": "VgL_LDNO4pWN",
        "outputId": "bca23426-7087-4f23-a26d-7847f9c0bcf5"
      },
      "outputs": [
        {
          "data": {
            "text/plain": [
              "155"
            ]
          },
          "execution_count": 18,
          "metadata": {},
          "output_type": "execute_result"
        }
      ],
      "source": [
        "(df['Locality'].value_counts()>10).sum()"
      ]
    },
    {
      "cell_type": "code",
      "execution_count": 19,
      "metadata": {
        "colab": {
          "base_uri": "https://localhost:8080/"
        },
        "id": "hSwrPxYV4zc2",
        "outputId": "54ce5d1b-2072-43ce-9189-293665e2c6af"
      },
      "outputs": [
        {
          "data": {
            "text/plain": [
              "236"
            ]
          },
          "execution_count": 19,
          "metadata": {},
          "output_type": "execute_result"
        }
      ],
      "source": [
        "(df['Price'].value_counts()==1).sum()"
      ]
    },
    {
      "cell_type": "code",
      "execution_count": 20,
      "metadata": {
        "colab": {
          "base_uri": "https://localhost:8080/",
          "height": 206
        },
        "id": "DZsG_XKO5ovS",
        "outputId": "4581e96e-ac91-4b39-f461-f4e701511843"
      },
      "outputs": [
        {
          "data": {
            "text/html": [
              "<div>\n",
              "<style scoped>\n",
              "    .dataframe tbody tr th:only-of-type {\n",
              "        vertical-align: middle;\n",
              "    }\n",
              "\n",
              "    .dataframe tbody tr th {\n",
              "        vertical-align: top;\n",
              "    }\n",
              "\n",
              "    .dataframe thead th {\n",
              "        text-align: right;\n",
              "    }\n",
              "</style>\n",
              "<table border=\"1\" class=\"dataframe\">\n",
              "  <thead>\n",
              "    <tr style=\"text-align: right;\">\n",
              "      <th></th>\n",
              "      <th>Price</th>\n",
              "      <th>Bedrooms</th>\n",
              "      <th>Locality</th>\n",
              "      <th>Property Type</th>\n",
              "      <th>Sqft</th>\n",
              "    </tr>\n",
              "  </thead>\n",
              "  <tbody>\n",
              "    <tr>\n",
              "      <th>0</th>\n",
              "      <td>49</td>\n",
              "      <td>2</td>\n",
              "      <td>Adibatla</td>\n",
              "      <td>Apartment</td>\n",
              "      <td>1285</td>\n",
              "    </tr>\n",
              "    <tr>\n",
              "      <th>1</th>\n",
              "      <td>79</td>\n",
              "      <td>2</td>\n",
              "      <td>Manikonda, Outer Ring Road</td>\n",
              "      <td>Apartment</td>\n",
              "      <td>1268</td>\n",
              "    </tr>\n",
              "    <tr>\n",
              "      <th>2</th>\n",
              "      <td>86</td>\n",
              "      <td>2</td>\n",
              "      <td>Hitech City</td>\n",
              "      <td>Apartment</td>\n",
              "      <td>1150</td>\n",
              "    </tr>\n",
              "    <tr>\n",
              "      <th>3</th>\n",
              "      <td>40</td>\n",
              "      <td>2</td>\n",
              "      <td>Aminpur</td>\n",
              "      <td>Apartment</td>\n",
              "      <td>918</td>\n",
              "    </tr>\n",
              "    <tr>\n",
              "      <th>4</th>\n",
              "      <td>1</td>\n",
              "      <td>3</td>\n",
              "      <td>Shaikpet</td>\n",
              "      <td>Apartment</td>\n",
              "      <td>1895</td>\n",
              "    </tr>\n",
              "  </tbody>\n",
              "</table>\n",
              "</div>"
            ],
            "text/plain": [
              "  Price Bedrooms                    Locality Property Type  Sqft\n",
              "0    49        2                    Adibatla     Apartment  1285\n",
              "1    79        2  Manikonda, Outer Ring Road     Apartment  1268\n",
              "2    86        2                 Hitech City     Apartment  1150\n",
              "3    40        2                     Aminpur     Apartment   918\n",
              "4     1        3                    Shaikpet     Apartment  1895"
            ]
          },
          "execution_count": 20,
          "metadata": {},
          "output_type": "execute_result"
        }
      ],
      "source": [
        "pattern = r'(\\d+)'\n",
        "df['Price'] = df['Price'].str.extract(pattern)\n",
        "df.head()\n"
      ]
    },
    {
      "cell_type": "code",
      "execution_count": 21,
      "metadata": {
        "colab": {
          "base_uri": "https://localhost:8080/"
        },
        "id": "UHF2GBCN5tZx",
        "outputId": "f9d72737-6284-4300-f1b9-d3cf50106a98"
      },
      "outputs": [
        {
          "name": "stdout",
          "output_type": "stream",
          "text": [
            "<class 'pandas.core.frame.DataFrame'>\n",
            "RangeIndex: 9866 entries, 0 to 9865\n",
            "Data columns (total 5 columns):\n",
            " #   Column         Non-Null Count  Dtype \n",
            "---  ------         --------------  ----- \n",
            " 0   Price          9866 non-null   object\n",
            " 1   Bedrooms       9834 non-null   object\n",
            " 2   Locality       9201 non-null   object\n",
            " 3   Property Type  9866 non-null   object\n",
            " 4   Sqft           8991 non-null   object\n",
            "dtypes: object(5)\n",
            "memory usage: 385.5+ KB\n"
          ]
        }
      ],
      "source": [
        "df.info()"
      ]
    },
    {
      "cell_type": "code",
      "execution_count": 22,
      "metadata": {
        "colab": {
          "base_uri": "https://localhost:8080/",
          "height": 35
        },
        "id": "zj8XRFSP6CVI",
        "outputId": "5459bbf4-427d-4960-9969-e56b8b004c9a"
      },
      "outputs": [
        {
          "data": {
            "text/plain": [
              "'> 10'"
            ]
          },
          "execution_count": 22,
          "metadata": {},
          "output_type": "execute_result"
        }
      ],
      "source": [
        "df['Bedrooms'][2193]"
      ]
    },
    {
      "cell_type": "code",
      "execution_count": 23,
      "metadata": {
        "id": "NlAksryE5ve1"
      },
      "outputs": [],
      "source": [
        "df['Price']=pd.to_numeric(df['Price'], errors= 'coerce')\n",
        "df['Sqft']=pd.to_numeric(df['Sqft'],errors= 'coerce')\n",
        "\n"
      ]
    },
    {
      "cell_type": "code",
      "execution_count": 24,
      "metadata": {
        "colab": {
          "base_uri": "https://localhost:8080/"
        },
        "id": "CBxMot1b7C0d",
        "outputId": "47b8a03d-9fef-49fa-bce6-d1879530a34e"
      },
      "outputs": [
        {
          "name": "stdout",
          "output_type": "stream",
          "text": [
            "<class 'pandas.core.frame.DataFrame'>\n",
            "RangeIndex: 9866 entries, 0 to 9865\n",
            "Data columns (total 5 columns):\n",
            " #   Column         Non-Null Count  Dtype  \n",
            "---  ------         --------------  -----  \n",
            " 0   Price          9866 non-null   int64  \n",
            " 1   Bedrooms       9834 non-null   object \n",
            " 2   Locality       9201 non-null   object \n",
            " 3   Property Type  9866 non-null   object \n",
            " 4   Sqft           8991 non-null   float64\n",
            "dtypes: float64(1), int64(1), object(3)\n",
            "memory usage: 385.5+ KB\n"
          ]
        }
      ],
      "source": [
        "df.info()"
      ]
    },
    {
      "cell_type": "code",
      "execution_count": 25,
      "metadata": {
        "colab": {
          "base_uri": "https://localhost:8080/",
          "height": 206
        },
        "id": "rDiBYBYM6QEK",
        "outputId": "914ba00e-46de-40f7-cd64-288f9f789791"
      },
      "outputs": [
        {
          "data": {
            "text/html": [
              "<div>\n",
              "<style scoped>\n",
              "    .dataframe tbody tr th:only-of-type {\n",
              "        vertical-align: middle;\n",
              "    }\n",
              "\n",
              "    .dataframe tbody tr th {\n",
              "        vertical-align: top;\n",
              "    }\n",
              "\n",
              "    .dataframe thead th {\n",
              "        text-align: right;\n",
              "    }\n",
              "</style>\n",
              "<table border=\"1\" class=\"dataframe\">\n",
              "  <thead>\n",
              "    <tr style=\"text-align: right;\">\n",
              "      <th></th>\n",
              "      <th>Price</th>\n",
              "      <th>Bedrooms</th>\n",
              "      <th>Locality</th>\n",
              "      <th>Property Type</th>\n",
              "      <th>Sqft</th>\n",
              "    </tr>\n",
              "  </thead>\n",
              "  <tbody>\n",
              "    <tr>\n",
              "      <th>5226</th>\n",
              "      <td>22</td>\n",
              "      <td>2</td>\n",
              "      <td>Shamirpet</td>\n",
              "      <td>Apartment</td>\n",
              "      <td>1040.0</td>\n",
              "    </tr>\n",
              "    <tr>\n",
              "      <th>4134</th>\n",
              "      <td>35</td>\n",
              "      <td>2</td>\n",
              "      <td>Upperpally</td>\n",
              "      <td>Apartment</td>\n",
              "      <td>930.0</td>\n",
              "    </tr>\n",
              "    <tr>\n",
              "      <th>1283</th>\n",
              "      <td>59</td>\n",
              "      <td>2</td>\n",
              "      <td>Madinaguda, Hafeezpet, NH  9</td>\n",
              "      <td>Apartment</td>\n",
              "      <td>1025.0</td>\n",
              "    </tr>\n",
              "    <tr>\n",
              "      <th>5134</th>\n",
              "      <td>60</td>\n",
              "      <td>2</td>\n",
              "      <td>Erragadda, NH  9</td>\n",
              "      <td>Apartment</td>\n",
              "      <td>950.0</td>\n",
              "    </tr>\n",
              "    <tr>\n",
              "      <th>559</th>\n",
              "      <td>65</td>\n",
              "      <td>2</td>\n",
              "      <td>Chaitanyapuri, Kothapet</td>\n",
              "      <td>Apartment</td>\n",
              "      <td>985.0</td>\n",
              "    </tr>\n",
              "  </tbody>\n",
              "</table>\n",
              "</div>"
            ],
            "text/plain": [
              "      Price Bedrooms                      Locality Property Type    Sqft\n",
              "5226     22        2                     Shamirpet     Apartment  1040.0\n",
              "4134     35        2                    Upperpally     Apartment   930.0\n",
              "1283     59        2  Madinaguda, Hafeezpet, NH  9     Apartment  1025.0\n",
              "5134     60        2              Erragadda, NH  9     Apartment   950.0\n",
              "559      65        2       Chaitanyapuri, Kothapet     Apartment   985.0"
            ]
          },
          "execution_count": 25,
          "metadata": {},
          "output_type": "execute_result"
        }
      ],
      "source": [
        "df.sample(5)"
      ]
    },
    {
      "cell_type": "code",
      "execution_count": 26,
      "metadata": {
        "id": "p_cjGr6M5E8n"
      },
      "outputs": [],
      "source": [
        "df.loc[df['Price'] == 1, 'Price'] = 100\n"
      ]
    },
    {
      "cell_type": "code",
      "execution_count": 27,
      "metadata": {
        "colab": {
          "base_uri": "https://localhost:8080/"
        },
        "id": "nBiDqlsO5V02",
        "outputId": "71b90718-bb4b-49ec-b0fa-f79db1898bdf"
      },
      "outputs": [
        {
          "data": {
            "text/plain": [
              "0"
            ]
          },
          "execution_count": 27,
          "metadata": {},
          "output_type": "execute_result"
        }
      ],
      "source": [
        "(df['Price'].value_counts()==1).sum()"
      ]
    },
    {
      "cell_type": "code",
      "execution_count": 28,
      "metadata": {
        "colab": {
          "base_uri": "https://localhost:8080/"
        },
        "id": "yHWK0KdI6Wd_",
        "outputId": "397f1a88-445d-4e01-db48-66a84fa9bb3a"
      },
      "outputs": [
        {
          "data": {
            "text/plain": [
              "1707"
            ]
          },
          "execution_count": 28,
          "metadata": {},
          "output_type": "execute_result"
        }
      ],
      "source": [
        "(df['Price']==100).sum()"
      ]
    },
    {
      "cell_type": "code",
      "execution_count": 29,
      "metadata": {
        "colab": {
          "base_uri": "https://localhost:8080/",
          "height": 206
        },
        "id": "r6GuXJDv6ZUf",
        "outputId": "d8b85794-8f44-4692-8f5b-c6bc73b4192b"
      },
      "outputs": [
        {
          "data": {
            "text/html": [
              "<div>\n",
              "<style scoped>\n",
              "    .dataframe tbody tr th:only-of-type {\n",
              "        vertical-align: middle;\n",
              "    }\n",
              "\n",
              "    .dataframe tbody tr th {\n",
              "        vertical-align: top;\n",
              "    }\n",
              "\n",
              "    .dataframe thead th {\n",
              "        text-align: right;\n",
              "    }\n",
              "</style>\n",
              "<table border=\"1\" class=\"dataframe\">\n",
              "  <thead>\n",
              "    <tr style=\"text-align: right;\">\n",
              "      <th></th>\n",
              "      <th>Price</th>\n",
              "      <th>Bedrooms</th>\n",
              "      <th>Locality</th>\n",
              "      <th>Property Type</th>\n",
              "      <th>Sqft</th>\n",
              "    </tr>\n",
              "  </thead>\n",
              "  <tbody>\n",
              "    <tr>\n",
              "      <th>0</th>\n",
              "      <td>49</td>\n",
              "      <td>2</td>\n",
              "      <td>Adibatla</td>\n",
              "      <td>Apartment</td>\n",
              "      <td>1285.0</td>\n",
              "    </tr>\n",
              "    <tr>\n",
              "      <th>1</th>\n",
              "      <td>79</td>\n",
              "      <td>2</td>\n",
              "      <td>Manikonda, Outer Ring Road</td>\n",
              "      <td>Apartment</td>\n",
              "      <td>1268.0</td>\n",
              "    </tr>\n",
              "    <tr>\n",
              "      <th>2</th>\n",
              "      <td>86</td>\n",
              "      <td>2</td>\n",
              "      <td>Hitech City</td>\n",
              "      <td>Apartment</td>\n",
              "      <td>1150.0</td>\n",
              "    </tr>\n",
              "    <tr>\n",
              "      <th>3</th>\n",
              "      <td>40</td>\n",
              "      <td>2</td>\n",
              "      <td>Aminpur</td>\n",
              "      <td>Apartment</td>\n",
              "      <td>918.0</td>\n",
              "    </tr>\n",
              "    <tr>\n",
              "      <th>4</th>\n",
              "      <td>100</td>\n",
              "      <td>3</td>\n",
              "      <td>Shaikpet</td>\n",
              "      <td>Apartment</td>\n",
              "      <td>1895.0</td>\n",
              "    </tr>\n",
              "  </tbody>\n",
              "</table>\n",
              "</div>"
            ],
            "text/plain": [
              "   Price Bedrooms                    Locality Property Type    Sqft\n",
              "0     49        2                    Adibatla     Apartment  1285.0\n",
              "1     79        2  Manikonda, Outer Ring Road     Apartment  1268.0\n",
              "2     86        2                 Hitech City     Apartment  1150.0\n",
              "3     40        2                     Aminpur     Apartment   918.0\n",
              "4    100        3                    Shaikpet     Apartment  1895.0"
            ]
          },
          "execution_count": 29,
          "metadata": {},
          "output_type": "execute_result"
        }
      ],
      "source": [
        "df.head()"
      ]
    },
    {
      "cell_type": "code",
      "execution_count": 30,
      "metadata": {
        "colab": {
          "base_uri": "https://localhost:8080/"
        },
        "id": "_LchiyVI63ST",
        "outputId": "fa2f0784-c7d1-4721-d30d-acbbeb85fec2"
      },
      "outputs": [
        {
          "data": {
            "text/plain": [
              "Price              0\n",
              "Bedrooms          32\n",
              "Locality         665\n",
              "Property Type      0\n",
              "Sqft             875\n",
              "dtype: int64"
            ]
          },
          "execution_count": 30,
          "metadata": {},
          "output_type": "execute_result"
        }
      ],
      "source": [
        "df.isnull().sum()"
      ]
    },
    {
      "cell_type": "code",
      "execution_count": 31,
      "metadata": {
        "id": "1d0Gyj0j5Xm1"
      },
      "outputs": [],
      "source": [
        "df.dropna(inplace=True)"
      ]
    },
    {
      "cell_type": "code",
      "execution_count": 32,
      "metadata": {
        "colab": {
          "base_uri": "https://localhost:8080/"
        },
        "id": "3fexCmVd5aVV",
        "outputId": "1f129f85-2176-440b-d09a-c83492fdae19"
      },
      "outputs": [
        {
          "data": {
            "text/plain": [
              "Price            0\n",
              "Bedrooms         0\n",
              "Locality         0\n",
              "Property Type    0\n",
              "Sqft             0\n",
              "dtype: int64"
            ]
          },
          "execution_count": 32,
          "metadata": {},
          "output_type": "execute_result"
        }
      ],
      "source": [
        "df.isnull().sum()"
      ]
    },
    {
      "cell_type": "code",
      "execution_count": 33,
      "metadata": {
        "colab": {
          "base_uri": "https://localhost:8080/"
        },
        "id": "emU4b3Zy7rHp",
        "outputId": "5d3f5b14-6d98-47b6-963a-3391f67fe2c4"
      },
      "outputs": [
        {
          "data": {
            "text/plain": [
              "(8363, 5)"
            ]
          },
          "execution_count": 33,
          "metadata": {},
          "output_type": "execute_result"
        }
      ],
      "source": [
        "df.shape"
      ]
    },
    {
      "cell_type": "code",
      "execution_count": 34,
      "metadata": {
        "colab": {
          "base_uri": "https://localhost:8080/"
        },
        "id": "BLDgVfQi8E-X",
        "outputId": "4e76b555-387b-471d-b82c-3ddd99871b1f"
      },
      "outputs": [
        {
          "data": {
            "text/plain": [
              "Locality\n",
              "Miyapur, NH  9                         263\n",
              "Manikonda, Outer Ring Road             228\n",
              "Bachupally                             219\n",
              "Nizampet                               207\n",
              "Kondapur                               190\n",
              "                                      ... \n",
              "Venkataramana Colony, Secunderabad       1\n",
              "Saraswathi Colony, Secunderabad          1\n",
              "Muthawalliguda                           1\n",
              "Kurmaguda, Srisailam Highway             1\n",
              "Beerappagadda, Secunderabad, NH 2 2      1\n",
              "Name: count, Length: 966, dtype: int64"
            ]
          },
          "execution_count": 34,
          "metadata": {},
          "output_type": "execute_result"
        }
      ],
      "source": [
        "df['Locality'].value_counts()"
      ]
    },
    {
      "cell_type": "code",
      "execution_count": 35,
      "metadata": {
        "colab": {
          "base_uri": "https://localhost:8080/"
        },
        "id": "ac1nWhtr_Wkk",
        "outputId": "ca42d9ad-a74d-44ca-d097-b9273bd9adfc"
      },
      "outputs": [
        {
          "data": {
            "text/plain": [
              "966"
            ]
          },
          "execution_count": 35,
          "metadata": {},
          "output_type": "execute_result"
        }
      ],
      "source": [
        "len(df['Locality'].unique())"
      ]
    },
    {
      "cell_type": "code",
      "execution_count": 36,
      "metadata": {
        "id": "On6Z4NuZ-uQj"
      },
      "outputs": [],
      "source": [
        "p = df[df['Locality'].isin(df['Locality'].value_counts()[df['Locality'].value_counts() > 50].index)]\n"
      ]
    },
    {
      "cell_type": "code",
      "execution_count": 37,
      "metadata": {
        "colab": {
          "base_uri": "https://localhost:8080/",
          "height": 423
        },
        "id": "7pSrmihD_nNC",
        "outputId": "3b59b79e-bd43-4393-dbe8-28d9ad3d952e"
      },
      "outputs": [
        {
          "data": {
            "text/html": [
              "<div>\n",
              "<style scoped>\n",
              "    .dataframe tbody tr th:only-of-type {\n",
              "        vertical-align: middle;\n",
              "    }\n",
              "\n",
              "    .dataframe tbody tr th {\n",
              "        vertical-align: top;\n",
              "    }\n",
              "\n",
              "    .dataframe thead th {\n",
              "        text-align: right;\n",
              "    }\n",
              "</style>\n",
              "<table border=\"1\" class=\"dataframe\">\n",
              "  <thead>\n",
              "    <tr style=\"text-align: right;\">\n",
              "      <th></th>\n",
              "      <th>Price</th>\n",
              "      <th>Bedrooms</th>\n",
              "      <th>Locality</th>\n",
              "      <th>Property Type</th>\n",
              "      <th>Sqft</th>\n",
              "    </tr>\n",
              "  </thead>\n",
              "  <tbody>\n",
              "    <tr>\n",
              "      <th>1</th>\n",
              "      <td>79</td>\n",
              "      <td>2</td>\n",
              "      <td>Manikonda, Outer Ring Road</td>\n",
              "      <td>Apartment</td>\n",
              "      <td>1268.0</td>\n",
              "    </tr>\n",
              "    <tr>\n",
              "      <th>3</th>\n",
              "      <td>40</td>\n",
              "      <td>2</td>\n",
              "      <td>Aminpur</td>\n",
              "      <td>Apartment</td>\n",
              "      <td>918.0</td>\n",
              "    </tr>\n",
              "    <tr>\n",
              "      <th>6</th>\n",
              "      <td>77</td>\n",
              "      <td>2</td>\n",
              "      <td>LB Nagar, NH  9</td>\n",
              "      <td>Apartment</td>\n",
              "      <td>1250.0</td>\n",
              "    </tr>\n",
              "    <tr>\n",
              "      <th>7</th>\n",
              "      <td>52</td>\n",
              "      <td>2</td>\n",
              "      <td>Tellapur, Outer Ring Road</td>\n",
              "      <td>Apartment</td>\n",
              "      <td>1010.0</td>\n",
              "    </tr>\n",
              "    <tr>\n",
              "      <th>8</th>\n",
              "      <td>72</td>\n",
              "      <td>2</td>\n",
              "      <td>Kompally</td>\n",
              "      <td>Apartment</td>\n",
              "      <td>1249.0</td>\n",
              "    </tr>\n",
              "    <tr>\n",
              "      <th>...</th>\n",
              "      <td>...</td>\n",
              "      <td>...</td>\n",
              "      <td>...</td>\n",
              "      <td>...</td>\n",
              "      <td>...</td>\n",
              "    </tr>\n",
              "    <tr>\n",
              "      <th>9834</th>\n",
              "      <td>54</td>\n",
              "      <td>2</td>\n",
              "      <td>Manikonda, Outer Ring Road</td>\n",
              "      <td>Builder Floor Apartment</td>\n",
              "      <td>1250.0</td>\n",
              "    </tr>\n",
              "    <tr>\n",
              "      <th>9847</th>\n",
              "      <td>33</td>\n",
              "      <td>2</td>\n",
              "      <td>Bachupally</td>\n",
              "      <td>Apartment</td>\n",
              "      <td>1055.0</td>\n",
              "    </tr>\n",
              "    <tr>\n",
              "      <th>9857</th>\n",
              "      <td>40</td>\n",
              "      <td>2</td>\n",
              "      <td>Nizampet</td>\n",
              "      <td>Apartment</td>\n",
              "      <td>1115.0</td>\n",
              "    </tr>\n",
              "    <tr>\n",
              "      <th>9860</th>\n",
              "      <td>52</td>\n",
              "      <td>3</td>\n",
              "      <td>Manikonda, Outer Ring Road</td>\n",
              "      <td>Apartment</td>\n",
              "      <td>1125.0</td>\n",
              "    </tr>\n",
              "    <tr>\n",
              "      <th>9862</th>\n",
              "      <td>62</td>\n",
              "      <td>2</td>\n",
              "      <td>Alkapur Township, Manikonda, Outer Ring Road</td>\n",
              "      <td>Apartment</td>\n",
              "      <td>1200.0</td>\n",
              "    </tr>\n",
              "  </tbody>\n",
              "</table>\n",
              "<p>3771 rows × 5 columns</p>\n",
              "</div>"
            ],
            "text/plain": [
              "      Price Bedrooms                                      Locality  \\\n",
              "1        79        2                    Manikonda, Outer Ring Road   \n",
              "3        40        2                                       Aminpur   \n",
              "6        77        2                               LB Nagar, NH  9   \n",
              "7        52        2                     Tellapur, Outer Ring Road   \n",
              "8        72        2                                      Kompally   \n",
              "...     ...      ...                                           ...   \n",
              "9834     54        2                    Manikonda, Outer Ring Road   \n",
              "9847     33        2                                    Bachupally   \n",
              "9857     40        2                                      Nizampet   \n",
              "9860     52        3                    Manikonda, Outer Ring Road   \n",
              "9862     62        2  Alkapur Township, Manikonda, Outer Ring Road   \n",
              "\n",
              "                Property Type    Sqft  \n",
              "1                   Apartment  1268.0  \n",
              "3                   Apartment   918.0  \n",
              "6                   Apartment  1250.0  \n",
              "7                   Apartment  1010.0  \n",
              "8                   Apartment  1249.0  \n",
              "...                       ...     ...  \n",
              "9834  Builder Floor Apartment  1250.0  \n",
              "9847                Apartment  1055.0  \n",
              "9857                Apartment  1115.0  \n",
              "9860                Apartment  1125.0  \n",
              "9862                Apartment  1200.0  \n",
              "\n",
              "[3771 rows x 5 columns]"
            ]
          },
          "execution_count": 37,
          "metadata": {},
          "output_type": "execute_result"
        }
      ],
      "source": [
        "p"
      ]
    },
    {
      "cell_type": "code",
      "execution_count": 38,
      "metadata": {
        "colab": {
          "base_uri": "https://localhost:8080/"
        },
        "id": "hrH1TbPz_iNH",
        "outputId": "9c3c61ee-4e86-4116-dc6b-cfcc306eb551"
      },
      "outputs": [
        {
          "data": {
            "text/plain": [
              "36"
            ]
          },
          "execution_count": 38,
          "metadata": {},
          "output_type": "execute_result"
        }
      ],
      "source": [
        "(df['Locality'].value_counts()>50).sum()"
      ]
    },
    {
      "cell_type": "code",
      "execution_count": 39,
      "metadata": {
        "colab": {
          "base_uri": "https://localhost:8080/"
        },
        "id": "auuNbvXRDQOX",
        "outputId": "c0732ae3-12dd-4724-a1a5-b58d490224d8"
      },
      "outputs": [
        {
          "data": {
            "text/plain": [
              "36"
            ]
          },
          "execution_count": 39,
          "metadata": {},
          "output_type": "execute_result"
        }
      ],
      "source": [
        "len(p['Locality'].unique())"
      ]
    },
    {
      "cell_type": "code",
      "execution_count": 40,
      "metadata": {
        "colab": {
          "base_uri": "https://localhost:8080/",
          "height": 472
        },
        "id": "octyhTBq79pD",
        "outputId": "941576e4-0093-4e72-ca1d-b4dfeba31908"
      },
      "outputs": [
        {
          "data": {
            "image/png": "[encoded data removed]",
            "text/plain": [
              "<Figure size 640x480 with 1 Axes>"
            ]
          },
          "metadata": {},
          "output_type": "display_data"
        }
      ],
      "source": [
        "locality_counts = df['Locality'].value_counts()\n",
        "filtered_counts = locality_counts[locality_counts > 50]\n",
        "new_loc = df[df['Locality'].isin(filtered_counts.index)]\n",
        "plt.barh(new_loc['Locality'].value_counts().index,new_loc['Locality'].value_counts().values)\n",
        "plt.yticks(fontsize=4)\n",
        "\n",
        "plt.xlabel('Count')\n",
        "plt.ylabel('Locality')\n",
        "plt.title('Locality Distribution')\n",
        "mean_value = int(locality_counts.mean())\n",
        "median_value = int(locality_counts.median())\n",
        "\n",
        "plt.axhline(y=mean_value, color='red', linestyle='--', label='Mean')\n",
        "plt.axhline(y=median_value, color='green', linestyle='-.', label='Median')\n",
        "\n",
        "plt.show()\n"
      ]
    },
    {
      "cell_type": "code",
      "execution_count": 41,
      "metadata": {
        "colab": {
          "base_uri": "https://localhost:8080/",
          "height": 206
        },
        "id": "DlYVeH3jA3k2",
        "outputId": "08afbbee-dc7d-40b4-b26a-0c5a2be2b18e"
      },
      "outputs": [
        {
          "data": {
            "text/html": [
              "<div>\n",
              "<style scoped>\n",
              "    .dataframe tbody tr th:only-of-type {\n",
              "        vertical-align: middle;\n",
              "    }\n",
              "\n",
              "    .dataframe tbody tr th {\n",
              "        vertical-align: top;\n",
              "    }\n",
              "\n",
              "    .dataframe thead th {\n",
              "        text-align: right;\n",
              "    }\n",
              "</style>\n",
              "<table border=\"1\" class=\"dataframe\">\n",
              "  <thead>\n",
              "    <tr style=\"text-align: right;\">\n",
              "      <th></th>\n",
              "      <th>Price</th>\n",
              "      <th>Bedrooms</th>\n",
              "      <th>Locality</th>\n",
              "      <th>Property Type</th>\n",
              "      <th>Sqft</th>\n",
              "    </tr>\n",
              "  </thead>\n",
              "  <tbody>\n",
              "    <tr>\n",
              "      <th>0</th>\n",
              "      <td>49</td>\n",
              "      <td>2</td>\n",
              "      <td>Adibatla</td>\n",
              "      <td>Apartment</td>\n",
              "      <td>1285.0</td>\n",
              "    </tr>\n",
              "    <tr>\n",
              "      <th>1</th>\n",
              "      <td>79</td>\n",
              "      <td>2</td>\n",
              "      <td>Manikonda, Outer Ring Road</td>\n",
              "      <td>Apartment</td>\n",
              "      <td>1268.0</td>\n",
              "    </tr>\n",
              "    <tr>\n",
              "      <th>2</th>\n",
              "      <td>86</td>\n",
              "      <td>2</td>\n",
              "      <td>Hitech City</td>\n",
              "      <td>Apartment</td>\n",
              "      <td>1150.0</td>\n",
              "    </tr>\n",
              "    <tr>\n",
              "      <th>3</th>\n",
              "      <td>40</td>\n",
              "      <td>2</td>\n",
              "      <td>Aminpur</td>\n",
              "      <td>Apartment</td>\n",
              "      <td>918.0</td>\n",
              "    </tr>\n",
              "    <tr>\n",
              "      <th>4</th>\n",
              "      <td>100</td>\n",
              "      <td>3</td>\n",
              "      <td>Shaikpet</td>\n",
              "      <td>Apartment</td>\n",
              "      <td>1895.0</td>\n",
              "    </tr>\n",
              "  </tbody>\n",
              "</table>\n",
              "</div>"
            ],
            "text/plain": [
              "   Price Bedrooms                    Locality Property Type    Sqft\n",
              "0     49        2                    Adibatla     Apartment  1285.0\n",
              "1     79        2  Manikonda, Outer Ring Road     Apartment  1268.0\n",
              "2     86        2                 Hitech City     Apartment  1150.0\n",
              "3     40        2                     Aminpur     Apartment   918.0\n",
              "4    100        3                    Shaikpet     Apartment  1895.0"
            ]
          },
          "execution_count": 41,
          "metadata": {},
          "output_type": "execute_result"
        }
      ],
      "source": [
        "df.head()"
      ]
    },
    {
      "cell_type": "code",
      "execution_count": 42,
      "metadata": {
        "id": "c_zbzghA88w6"
      },
      "outputs": [],
      "source": [
        "#locality_counts.median()\n"
      ]
    },
    {
      "cell_type": "code",
      "execution_count": 43,
      "metadata": {
        "colab": {
          "base_uri": "https://localhost:8080/",
          "height": 80
        },
        "id": "EBnsZ4P9Du2X",
        "outputId": "292d321c-7f33-41b5-b5de-39f1386cccdc"
      },
      "outputs": [
        {
          "data": {
            "text/html": [
              "<div>\n",
              "<style scoped>\n",
              "    .dataframe tbody tr th:only-of-type {\n",
              "        vertical-align: middle;\n",
              "    }\n",
              "\n",
              "    .dataframe tbody tr th {\n",
              "        vertical-align: top;\n",
              "    }\n",
              "\n",
              "    .dataframe thead th {\n",
              "        text-align: right;\n",
              "    }\n",
              "</style>\n",
              "<table border=\"1\" class=\"dataframe\">\n",
              "  <thead>\n",
              "    <tr style=\"text-align: right;\">\n",
              "      <th></th>\n",
              "      <th>Price</th>\n",
              "      <th>Bedrooms</th>\n",
              "      <th>Locality</th>\n",
              "      <th>Property Type</th>\n",
              "      <th>Sqft</th>\n",
              "    </tr>\n",
              "  </thead>\n",
              "  <tbody>\n",
              "    <tr>\n",
              "      <th>4080</th>\n",
              "      <td>75</td>\n",
              "      <td>2</td>\n",
              "      <td>Chanda Nagar</td>\n",
              "      <td>Apartment</td>\n",
              "      <td>1000.0</td>\n",
              "    </tr>\n",
              "  </tbody>\n",
              "</table>\n",
              "</div>"
            ],
            "text/plain": [
              "      Price Bedrooms      Locality Property Type    Sqft\n",
              "4080     75        2  Chanda Nagar     Apartment  1000.0"
            ]
          },
          "execution_count": 43,
          "metadata": {},
          "output_type": "execute_result"
        }
      ],
      "source": [
        "df.sample()"
      ]
    },
    {
      "cell_type": "code",
      "execution_count": 44,
      "metadata": {
        "colab": {
          "base_uri": "https://localhost:8080/",
          "height": 423
        },
        "id": "6Jd9CYy6Ctlh",
        "outputId": "5c4025ac-5d82-49f1-9c12-d460c413407e"
      },
      "outputs": [
        {
          "data": {
            "text/html": [
              "<div>\n",
              "<style scoped>\n",
              "    .dataframe tbody tr th:only-of-type {\n",
              "        vertical-align: middle;\n",
              "    }\n",
              "\n",
              "    .dataframe tbody tr th {\n",
              "        vertical-align: top;\n",
              "    }\n",
              "\n",
              "    .dataframe thead th {\n",
              "        text-align: right;\n",
              "    }\n",
              "</style>\n",
              "<table border=\"1\" class=\"dataframe\">\n",
              "  <thead>\n",
              "    <tr style=\"text-align: right;\">\n",
              "      <th></th>\n",
              "      <th>Price</th>\n",
              "      <th>Bedrooms</th>\n",
              "      <th>Locality</th>\n",
              "      <th>Property Type</th>\n",
              "      <th>Sqft</th>\n",
              "    </tr>\n",
              "  </thead>\n",
              "  <tbody>\n",
              "    <tr>\n",
              "      <th>1</th>\n",
              "      <td>79</td>\n",
              "      <td>2</td>\n",
              "      <td>Manikonda, Outer Ring Road</td>\n",
              "      <td>Apartment</td>\n",
              "      <td>1268.0</td>\n",
              "    </tr>\n",
              "    <tr>\n",
              "      <th>3</th>\n",
              "      <td>40</td>\n",
              "      <td>2</td>\n",
              "      <td>Aminpur</td>\n",
              "      <td>Apartment</td>\n",
              "      <td>918.0</td>\n",
              "    </tr>\n",
              "    <tr>\n",
              "      <th>6</th>\n",
              "      <td>77</td>\n",
              "      <td>2</td>\n",
              "      <td>LB Nagar, NH  9</td>\n",
              "      <td>Apartment</td>\n",
              "      <td>1250.0</td>\n",
              "    </tr>\n",
              "    <tr>\n",
              "      <th>7</th>\n",
              "      <td>52</td>\n",
              "      <td>2</td>\n",
              "      <td>Tellapur, Outer Ring Road</td>\n",
              "      <td>Apartment</td>\n",
              "      <td>1010.0</td>\n",
              "    </tr>\n",
              "    <tr>\n",
              "      <th>8</th>\n",
              "      <td>72</td>\n",
              "      <td>2</td>\n",
              "      <td>Kompally</td>\n",
              "      <td>Apartment</td>\n",
              "      <td>1249.0</td>\n",
              "    </tr>\n",
              "    <tr>\n",
              "      <th>...</th>\n",
              "      <td>...</td>\n",
              "      <td>...</td>\n",
              "      <td>...</td>\n",
              "      <td>...</td>\n",
              "      <td>...</td>\n",
              "    </tr>\n",
              "    <tr>\n",
              "      <th>9834</th>\n",
              "      <td>54</td>\n",
              "      <td>2</td>\n",
              "      <td>Manikonda, Outer Ring Road</td>\n",
              "      <td>Builder Floor Apartment</td>\n",
              "      <td>1250.0</td>\n",
              "    </tr>\n",
              "    <tr>\n",
              "      <th>9847</th>\n",
              "      <td>33</td>\n",
              "      <td>2</td>\n",
              "      <td>Bachupally</td>\n",
              "      <td>Apartment</td>\n",
              "      <td>1055.0</td>\n",
              "    </tr>\n",
              "    <tr>\n",
              "      <th>9857</th>\n",
              "      <td>40</td>\n",
              "      <td>2</td>\n",
              "      <td>Nizampet</td>\n",
              "      <td>Apartment</td>\n",
              "      <td>1115.0</td>\n",
              "    </tr>\n",
              "    <tr>\n",
              "      <th>9860</th>\n",
              "      <td>52</td>\n",
              "      <td>3</td>\n",
              "      <td>Manikonda, Outer Ring Road</td>\n",
              "      <td>Apartment</td>\n",
              "      <td>1125.0</td>\n",
              "    </tr>\n",
              "    <tr>\n",
              "      <th>9862</th>\n",
              "      <td>62</td>\n",
              "      <td>2</td>\n",
              "      <td>Alkapur Township, Manikonda, Outer Ring Road</td>\n",
              "      <td>Apartment</td>\n",
              "      <td>1200.0</td>\n",
              "    </tr>\n",
              "  </tbody>\n",
              "</table>\n",
              "<p>3771 rows × 5 columns</p>\n",
              "</div>"
            ],
            "text/plain": [
              "      Price Bedrooms                                      Locality  \\\n",
              "1        79        2                    Manikonda, Outer Ring Road   \n",
              "3        40        2                                       Aminpur   \n",
              "6        77        2                               LB Nagar, NH  9   \n",
              "7        52        2                     Tellapur, Outer Ring Road   \n",
              "8        72        2                                      Kompally   \n",
              "...     ...      ...                                           ...   \n",
              "9834     54        2                    Manikonda, Outer Ring Road   \n",
              "9847     33        2                                    Bachupally   \n",
              "9857     40        2                                      Nizampet   \n",
              "9860     52        3                    Manikonda, Outer Ring Road   \n",
              "9862     62        2  Alkapur Township, Manikonda, Outer Ring Road   \n",
              "\n",
              "                Property Type    Sqft  \n",
              "1                   Apartment  1268.0  \n",
              "3                   Apartment   918.0  \n",
              "6                   Apartment  1250.0  \n",
              "7                   Apartment  1010.0  \n",
              "8                   Apartment  1249.0  \n",
              "...                       ...     ...  \n",
              "9834  Builder Floor Apartment  1250.0  \n",
              "9847                Apartment  1055.0  \n",
              "9857                Apartment  1115.0  \n",
              "9860                Apartment  1125.0  \n",
              "9862                Apartment  1200.0  \n",
              "\n",
              "[3771 rows x 5 columns]"
            ]
          },
          "execution_count": 44,
          "metadata": {},
          "output_type": "execute_result"
        }
      ],
      "source": [
        "df = df[df['Locality'].isin(p['Locality'])]\n",
        "df"
      ]
    },
    {
      "cell_type": "code",
      "execution_count": 45,
      "metadata": {
        "colab": {
          "base_uri": "https://localhost:8080/",
          "height": 206
        },
        "id": "pqFLj04aDFtE",
        "outputId": "5d267535-d23a-4619-bee3-52e15b162b82"
      },
      "outputs": [
        {
          "data": {
            "text/html": [
              "<div>\n",
              "<style scoped>\n",
              "    .dataframe tbody tr th:only-of-type {\n",
              "        vertical-align: middle;\n",
              "    }\n",
              "\n",
              "    .dataframe tbody tr th {\n",
              "        vertical-align: top;\n",
              "    }\n",
              "\n",
              "    .dataframe thead th {\n",
              "        text-align: right;\n",
              "    }\n",
              "</style>\n",
              "<table border=\"1\" class=\"dataframe\">\n",
              "  <thead>\n",
              "    <tr style=\"text-align: right;\">\n",
              "      <th></th>\n",
              "      <th>Price</th>\n",
              "      <th>Bedrooms</th>\n",
              "      <th>Locality</th>\n",
              "      <th>Property Type</th>\n",
              "      <th>Sqft</th>\n",
              "    </tr>\n",
              "  </thead>\n",
              "  <tbody>\n",
              "    <tr>\n",
              "      <th>1</th>\n",
              "      <td>79</td>\n",
              "      <td>2</td>\n",
              "      <td>Manikonda, Outer Ring Road</td>\n",
              "      <td>Apartment</td>\n",
              "      <td>1268.0</td>\n",
              "    </tr>\n",
              "    <tr>\n",
              "      <th>3</th>\n",
              "      <td>40</td>\n",
              "      <td>2</td>\n",
              "      <td>Aminpur</td>\n",
              "      <td>Apartment</td>\n",
              "      <td>918.0</td>\n",
              "    </tr>\n",
              "    <tr>\n",
              "      <th>6</th>\n",
              "      <td>77</td>\n",
              "      <td>2</td>\n",
              "      <td>LB Nagar, NH  9</td>\n",
              "      <td>Apartment</td>\n",
              "      <td>1250.0</td>\n",
              "    </tr>\n",
              "    <tr>\n",
              "      <th>7</th>\n",
              "      <td>52</td>\n",
              "      <td>2</td>\n",
              "      <td>Tellapur, Outer Ring Road</td>\n",
              "      <td>Apartment</td>\n",
              "      <td>1010.0</td>\n",
              "    </tr>\n",
              "    <tr>\n",
              "      <th>8</th>\n",
              "      <td>72</td>\n",
              "      <td>2</td>\n",
              "      <td>Kompally</td>\n",
              "      <td>Apartment</td>\n",
              "      <td>1249.0</td>\n",
              "    </tr>\n",
              "  </tbody>\n",
              "</table>\n",
              "</div>"
            ],
            "text/plain": [
              "   Price Bedrooms                    Locality Property Type    Sqft\n",
              "1     79        2  Manikonda, Outer Ring Road     Apartment  1268.0\n",
              "3     40        2                     Aminpur     Apartment   918.0\n",
              "6     77        2             LB Nagar, NH  9     Apartment  1250.0\n",
              "7     52        2   Tellapur, Outer Ring Road     Apartment  1010.0\n",
              "8     72        2                    Kompally     Apartment  1249.0"
            ]
          },
          "execution_count": 45,
          "metadata": {},
          "output_type": "execute_result"
        }
      ],
      "source": [
        "df.head()"
      ]
    },
    {
      "cell_type": "code",
      "execution_count": 46,
      "metadata": {
        "colab": {
          "base_uri": "https://localhost:8080/"
        },
        "id": "DM2RdEbWD7jv",
        "outputId": "a36fa92b-f523-4a59-c8ae-a582098042f3"
      },
      "outputs": [
        {
          "data": {
            "text/plain": [
              "36"
            ]
          },
          "execution_count": 46,
          "metadata": {},
          "output_type": "execute_result"
        }
      ],
      "source": [
        "len(df['Locality'].unique())"
      ]
    },
    {
      "cell_type": "code",
      "execution_count": 49,
      "metadata": {},
      "outputs": [
        {
          "name": "stdout",
          "output_type": "stream",
          "text": [
            "['Manikonda, Outer Ring Road' 'Aminpur' 'LB Nagar, NH  9'\n",
            " 'Tellapur, Outer Ring Road' 'Kompally' 'Bachupally' 'Miyapur, NH  9'\n",
            " 'Kokapet, Outer Ring Road' 'Alkapur Township, Manikonda, Outer Ring Road'\n",
            " 'Uppal, NH 2 2' 'Chandanagar, NH  9' 'Pragathi Nagar, Kukatpally'\n",
            " 'Toli Chowki' 'Nagole' 'Shamirpet' 'Nizampet' 'Gachibowli'\n",
            " 'Kollur, Outer Ring Road' 'Puppalaguda' 'Madinaguda, Hafeezpet, NH  9'\n",
            " 'Nallagandla, Serilingampally' 'Narsingi, Outer Ring Road'\n",
            " 'Kukatpally, NH  9' 'Patancheru' 'Nagaram'\n",
            " 'Beeramguda, Ramachandra Puram, NH  9' 'Rajendra Nagar, Outer Ring Road'\n",
            " 'Kondapur' 'Dammaiguda' 'Mallampet, Outer Ring Road' 'Gajularamaram'\n",
            " 'Bandlaguda Jagir' 'Hafeezpet, NH  9' 'Madhapur' 'Boduppal, NH 2 2'\n",
            " 'Attapur']\n"
          ]
        }
      ],
      "source": [
        "locations = df['Locality'].unique()\n",
        "print(locations)"
      ]
    },
    {
      "cell_type": "markdown",
      "metadata": {
        "id": "njdu0dBuEH1f"
      },
      "source": [
        "Data Preprocessing"
      ]
    },
    {
      "cell_type": "code",
      "execution_count": 50,
      "metadata": {
        "colab": {
          "base_uri": "https://localhost:8080/"
        },
        "id": "N3yirnfX7tEC",
        "outputId": "a3edd1ba-b913-4588-90f7-e7e0faf02376"
      },
      "outputs": [
        {
          "name": "stdout",
          "output_type": "stream",
          "text": [
            "[21  1 17 ... 27 21  0]\n"
          ]
        }
      ],
      "source": [
        "l = sklearn.preprocessing.LabelEncoder()\n",
        "encoded_locations= l.fit_transform(df['Locality'])\n",
        "df['Locality']= encoded_locations\n",
        "print(encoded_locations)"
      ]
    },
    {
      "cell_type": "code",
      "execution_count": 53,
      "metadata": {},
      "outputs": [
        {
          "name": "stdout",
          "output_type": "stream",
          "text": [
            "['Alkapur Township, Manikonda, Outer Ring Road' 'Aminpur' 'Attapur'\n",
            " 'Bachupally' 'Bandlaguda Jagir' 'Beeramguda, Ramachandra Puram, NH  9'\n",
            " 'Boduppal, NH 2 2' 'Chandanagar, NH  9' 'Dammaiguda' 'Gachibowli'\n",
            " 'Gajularamaram' 'Hafeezpet, NH  9' 'Kokapet, Outer Ring Road'\n",
            " 'Kollur, Outer Ring Road' 'Kompally' 'Kondapur' 'Kukatpally, NH  9'\n",
            " 'LB Nagar, NH  9' 'Madhapur' 'Madinaguda, Hafeezpet, NH  9'\n",
            " 'Mallampet, Outer Ring Road' 'Manikonda, Outer Ring Road'\n",
            " 'Miyapur, NH  9' 'Nagaram' 'Nagole' 'Nallagandla, Serilingampally'\n",
            " 'Narsingi, Outer Ring Road' 'Nizampet' 'Patancheru'\n",
            " 'Pragathi Nagar, Kukatpally' 'Puppalaguda'\n",
            " 'Rajendra Nagar, Outer Ring Road' 'Shamirpet' 'Tellapur, Outer Ring Road'\n",
            " 'Toli Chowki' 'Uppal, NH 2 2']\n"
          ]
        }
      ],
      "source": [
        "original_locations = l.classes_\n",
        "print(original_locations)"
      ]
    },
    {
      "cell_type": "code",
      "execution_count": 56,
      "metadata": {},
      "outputs": [
        {
          "name": "stdout",
          "output_type": "stream",
          "text": [
            "{'Alkapur Township, Manikonda, Outer Ring Road': 0, 'Aminpur': 1, 'Attapur': 2, 'Bachupally': 3, 'Bandlaguda Jagir': 4, 'Beeramguda, Ramachandra Puram, NH  9': 5, 'Boduppal, NH 2 2': 6, 'Chandanagar, NH  9': 7, 'Dammaiguda': 8, 'Gachibowli': 9, 'Gajularamaram': 10, 'Hafeezpet, NH  9': 11, 'Kokapet, Outer Ring Road': 12, 'Kollur, Outer Ring Road': 13, 'Kompally': 14, 'Kondapur': 15, 'Kukatpally, NH  9': 16, 'LB Nagar, NH  9': 17, 'Madhapur': 18, 'Madinaguda, Hafeezpet, NH  9': 19, 'Mallampet, Outer Ring Road': 20, 'Manikonda, Outer Ring Road': 21, 'Miyapur, NH  9': 22, 'Nagaram': 23, 'Nagole': 24, 'Nallagandla, Serilingampally': 25, 'Narsingi, Outer Ring Road': 26, 'Nizampet': 27, 'Patancheru': 28, 'Pragathi Nagar, Kukatpally': 29, 'Puppalaguda': 30, 'Rajendra Nagar, Outer Ring Road': 31, 'Shamirpet': 32, 'Tellapur, Outer Ring Road': 33, 'Toli Chowki': 34, 'Uppal, NH 2 2': 35}\n"
          ]
        }
      ],
      "source": [
        "encoding_dict = dict(zip(original_locations, range(len(original_locations))))\n",
        "print(encoding_dict)"
      ]
    },
    {
      "cell_type": "code",
      "execution_count": 54,
      "metadata": {},
      "outputs": [
        {
          "data": {
            "text/html": [
              "<div>\n",
              "<style scoped>\n",
              "    .dataframe tbody tr th:only-of-type {\n",
              "        vertical-align: middle;\n",
              "    }\n",
              "\n",
              "    .dataframe tbody tr th {\n",
              "        vertical-align: top;\n",
              "    }\n",
              "\n",
              "    .dataframe thead th {\n",
              "        text-align: right;\n",
              "    }\n",
              "</style>\n",
              "<table border=\"1\" class=\"dataframe\">\n",
              "  <thead>\n",
              "    <tr style=\"text-align: right;\">\n",
              "      <th></th>\n",
              "      <th>Price</th>\n",
              "      <th>Bedrooms</th>\n",
              "      <th>Locality</th>\n",
              "      <th>Property Type</th>\n",
              "      <th>Sqft</th>\n",
              "    </tr>\n",
              "  </thead>\n",
              "  <tbody>\n",
              "    <tr>\n",
              "      <th>1</th>\n",
              "      <td>79</td>\n",
              "      <td>2</td>\n",
              "      <td>21</td>\n",
              "      <td>Apartment</td>\n",
              "      <td>1268.0</td>\n",
              "    </tr>\n",
              "    <tr>\n",
              "      <th>3</th>\n",
              "      <td>40</td>\n",
              "      <td>2</td>\n",
              "      <td>1</td>\n",
              "      <td>Apartment</td>\n",
              "      <td>918.0</td>\n",
              "    </tr>\n",
              "    <tr>\n",
              "      <th>6</th>\n",
              "      <td>77</td>\n",
              "      <td>2</td>\n",
              "      <td>17</td>\n",
              "      <td>Apartment</td>\n",
              "      <td>1250.0</td>\n",
              "    </tr>\n",
              "    <tr>\n",
              "      <th>7</th>\n",
              "      <td>52</td>\n",
              "      <td>2</td>\n",
              "      <td>33</td>\n",
              "      <td>Apartment</td>\n",
              "      <td>1010.0</td>\n",
              "    </tr>\n",
              "  </tbody>\n",
              "</table>\n",
              "</div>"
            ],
            "text/plain": [
              "   Price Bedrooms  Locality Property Type    Sqft\n",
              "1     79        2        21     Apartment  1268.0\n",
              "3     40        2         1     Apartment   918.0\n",
              "6     77        2        17     Apartment  1250.0\n",
              "7     52        2        33     Apartment  1010.0"
            ]
          },
          "execution_count": 54,
          "metadata": {},
          "output_type": "execute_result"
        }
      ],
      "source": [
        "df.head(4)"
      ]
    },
    {
      "cell_type": "code",
      "execution_count": null,
      "metadata": {
        "colab": {
          "base_uri": "https://localhost:8080/"
        },
        "id": "FjaDxD0x78UE",
        "outputId": "d8f80ec0-f2cd-42e2-9804-9426b315e17a"
      },
      "outputs": [
        {
          "data": {
            "text/plain": [
              "array(['Apartment', 'Villa', 'Residential House',\n",
              "       'Builder Floor Apartment', 'Penthouse'], dtype=object)"
            ]
          },
          "execution_count": 45,
          "metadata": {},
          "output_type": "execute_result"
        }
      ],
      "source": [
        "df['Property Type'].unique()"
      ]
    },
    {
      "cell_type": "code",
      "execution_count": null,
      "metadata": {
        "colab": {
          "base_uri": "https://localhost:8080/"
        },
        "id": "AFKB4vFyBVyI",
        "outputId": "24788f12-354c-4b5e-e1f4-fa766109f769"
      },
      "outputs": [
        {
          "data": {
            "text/plain": [
              "array(['2', '3', '4', '1', '6', '5', '> 10', '7'], dtype=object)"
            ]
          },
          "execution_count": 46,
          "metadata": {},
          "output_type": "execute_result"
        }
      ],
      "source": [
        "df['Bedrooms'].unique()"
      ]
    },
    {
      "cell_type": "code",
      "execution_count": null,
      "metadata": {
        "colab": {
          "base_uri": "https://localhost:8080/"
        },
        "id": "Pv-de_DDBaih",
        "outputId": "c7e23e4a-0064-4bc6-d784-4fd8f4bb7a01"
      },
      "outputs": [
        {
          "data": {
            "text/plain": [
              "1"
            ]
          },
          "execution_count": 47,
          "metadata": {},
          "output_type": "execute_result"
        }
      ],
      "source": [
        "(df['Bedrooms']=='> 10').sum()"
      ]
    },
    {
      "cell_type": "code",
      "execution_count": null,
      "metadata": {
        "colab": {
          "base_uri": "https://localhost:8080/"
        },
        "id": "BB3siqU1BlKH",
        "outputId": "64f6f49f-aa05-496b-9c20-053fa4524260"
      },
      "outputs": [],
      "source": [
        "df.drop(df[df['Bedrooms'] == '> 10'].index, inplace=True)\n"
      ]
    },
    {
      "cell_type": "code",
      "execution_count": null,
      "metadata": {
        "colab": {
          "base_uri": "https://localhost:8080/"
        },
        "id": "_PrFd0y7B5OS",
        "outputId": "e5c604bb-53b4-47b9-fcee-9b2c7195b14b"
      },
      "outputs": [
        {
          "data": {
            "text/plain": [
              "0"
            ]
          },
          "execution_count": 49,
          "metadata": {},
          "output_type": "execute_result"
        }
      ],
      "source": [
        "(df['Bedrooms']=='> 10').sum()"
      ]
    },
    {
      "cell_type": "code",
      "execution_count": null,
      "metadata": {
        "colab": {
          "base_uri": "https://localhost:8080/"
        },
        "id": "-g7ouYXSCXsE",
        "outputId": "169a460c-c074-457f-a094-8c3ff50f7084"
      },
      "outputs": [
        {
          "data": {
            "text/plain": [
              "36"
            ]
          },
          "execution_count": 50,
          "metadata": {},
          "output_type": "execute_result"
        }
      ],
      "source": [
        "len(df['Locality'].unique())\n"
      ]
    },
    {
      "cell_type": "code",
      "execution_count": null,
      "metadata": {
        "colab": {
          "base_uri": "https://localhost:8080/",
          "height": 206
        },
        "id": "YVHr61WdCjE_",
        "outputId": "895f7fe3-d4f1-47be-f2f4-9d634c323f84"
      },
      "outputs": [
        {
          "data": {
            "text/html": [
              "<div>\n",
              "<style scoped>\n",
              "    .dataframe tbody tr th:only-of-type {\n",
              "        vertical-align: middle;\n",
              "    }\n",
              "\n",
              "    .dataframe tbody tr th {\n",
              "        vertical-align: top;\n",
              "    }\n",
              "\n",
              "    .dataframe thead th {\n",
              "        text-align: right;\n",
              "    }\n",
              "</style>\n",
              "<table border=\"1\" class=\"dataframe\">\n",
              "  <thead>\n",
              "    <tr style=\"text-align: right;\">\n",
              "      <th></th>\n",
              "      <th>Price</th>\n",
              "      <th>Bedrooms</th>\n",
              "      <th>Locality</th>\n",
              "      <th>Property Type</th>\n",
              "      <th>Sqft</th>\n",
              "    </tr>\n",
              "  </thead>\n",
              "  <tbody>\n",
              "    <tr>\n",
              "      <th>2056</th>\n",
              "      <td>100</td>\n",
              "      <td>3</td>\n",
              "      <td>12</td>\n",
              "      <td>Apartment</td>\n",
              "      <td>1769.0</td>\n",
              "    </tr>\n",
              "    <tr>\n",
              "      <th>6736</th>\n",
              "      <td>46</td>\n",
              "      <td>2</td>\n",
              "      <td>14</td>\n",
              "      <td>Apartment</td>\n",
              "      <td>842.0</td>\n",
              "    </tr>\n",
              "    <tr>\n",
              "      <th>4048</th>\n",
              "      <td>18</td>\n",
              "      <td>2</td>\n",
              "      <td>32</td>\n",
              "      <td>Apartment</td>\n",
              "      <td>1050.0</td>\n",
              "    </tr>\n",
              "    <tr>\n",
              "      <th>8556</th>\n",
              "      <td>35</td>\n",
              "      <td>2</td>\n",
              "      <td>5</td>\n",
              "      <td>Apartment</td>\n",
              "      <td>1300.0</td>\n",
              "    </tr>\n",
              "    <tr>\n",
              "      <th>7194</th>\n",
              "      <td>60</td>\n",
              "      <td>2</td>\n",
              "      <td>2</td>\n",
              "      <td>Apartment</td>\n",
              "      <td>1052.0</td>\n",
              "    </tr>\n",
              "  </tbody>\n",
              "</table>\n",
              "</div>"
            ],
            "text/plain": [
              "      Price Bedrooms  Locality Property Type    Sqft\n",
              "2056    100        3        12     Apartment  1769.0\n",
              "6736     46        2        14     Apartment   842.0\n",
              "4048     18        2        32     Apartment  1050.0\n",
              "8556     35        2         5     Apartment  1300.0\n",
              "7194     60        2         2     Apartment  1052.0"
            ]
          },
          "execution_count": 51,
          "metadata": {},
          "output_type": "execute_result"
        }
      ],
      "source": [
        "df.sample(5)"
      ]
    },
    {
      "cell_type": "code",
      "execution_count": null,
      "metadata": {
        "id": "8mFsc0hSEe6q"
      },
      "outputs": [],
      "source": [
        "x_train, x_test, y_train, y_test = train_test_split(df.drop(['Price','Bedrooms','Property Type'], axis=1), df['Price'], test_size=0.2, random_state=42)"
      ]
    },
    {
      "cell_type": "code",
      "execution_count": null,
      "metadata": {
        "colab": {
          "base_uri": "https://localhost:8080/",
          "height": 206
        },
        "id": "mssqN9HYEyCs",
        "outputId": "3a63a36e-b041-4c00-8a7e-0f9631abf092"
      },
      "outputs": [
        {
          "data": {
            "text/html": [
              "<div>\n",
              "<style scoped>\n",
              "    .dataframe tbody tr th:only-of-type {\n",
              "        vertical-align: middle;\n",
              "    }\n",
              "\n",
              "    .dataframe tbody tr th {\n",
              "        vertical-align: top;\n",
              "    }\n",
              "\n",
              "    .dataframe thead th {\n",
              "        text-align: right;\n",
              "    }\n",
              "</style>\n",
              "<table border=\"1\" class=\"dataframe\">\n",
              "  <thead>\n",
              "    <tr style=\"text-align: right;\">\n",
              "      <th></th>\n",
              "      <th>Locality</th>\n",
              "      <th>Sqft</th>\n",
              "    </tr>\n",
              "  </thead>\n",
              "  <tbody>\n",
              "    <tr>\n",
              "      <th>9210</th>\n",
              "      <td>19</td>\n",
              "      <td>1340.0</td>\n",
              "    </tr>\n",
              "    <tr>\n",
              "      <th>8988</th>\n",
              "      <td>29</td>\n",
              "      <td>1080.0</td>\n",
              "    </tr>\n",
              "    <tr>\n",
              "      <th>1336</th>\n",
              "      <td>3</td>\n",
              "      <td>1449.0</td>\n",
              "    </tr>\n",
              "    <tr>\n",
              "      <th>9691</th>\n",
              "      <td>5</td>\n",
              "      <td>900.0</td>\n",
              "    </tr>\n",
              "    <tr>\n",
              "      <th>5523</th>\n",
              "      <td>7</td>\n",
              "      <td>1600.0</td>\n",
              "    </tr>\n",
              "  </tbody>\n",
              "</table>\n",
              "</div>"
            ],
            "text/plain": [
              "      Locality    Sqft\n",
              "9210        19  1340.0\n",
              "8988        29  1080.0\n",
              "1336         3  1449.0\n",
              "9691         5   900.0\n",
              "5523         7  1600.0"
            ]
          },
          "execution_count": 53,
          "metadata": {},
          "output_type": "execute_result"
        }
      ],
      "source": [
        "x_train.head()"
      ]
    },
    {
      "cell_type": "markdown",
      "metadata": {
        "id": "7skb5BiSEbvy"
      },
      "source": [
        "Random Forest"
      ]
    },
    {
      "cell_type": "code",
      "execution_count": null,
      "metadata": {
        "colab": {
          "base_uri": "https://localhost:8080/",
          "height": 74
        },
        "id": "UCsDwgGyESlS",
        "outputId": "5d098c95-1d23-45a8-ef4d-7e4b38e7e7ba"
      },
      "outputs": [
        {
          "data": {
            "text/html": [
              "<style>#sk-container-id-17 {\n",
              "  /* Definition of color scheme common for light and dark mode */\n",
              "  --sklearn-color-text: black;\n",
              "  --sklearn-color-line: gray;\n",
              "  /* Definition of color scheme for unfitted estimators */\n",
              "  --sklearn-color-unfitted-level-0: #fff5e6;\n",
              "  --sklearn-color-unfitted-level-1: #f6e4d2;\n",
              "  --sklearn-color-unfitted-level-2: #ffe0b3;\n",
              "  --sklearn-color-unfitted-level-3: chocolate;\n",
              "  /* Definition of color scheme for fitted estimators */\n",
              "  --sklearn-color-fitted-level-0: #f0f8ff;\n",
              "  --sklearn-color-fitted-level-1: #d4ebff;\n",
              "  --sklearn-color-fitted-level-2: #b3dbfd;\n",
              "  --sklearn-color-fitted-level-3: cornflowerblue;\n",
              "\n",
              "  /* Specific color for light theme */\n",
              "  --sklearn-color-text-on-default-background: var(--sg-text-color, var(--theme-code-foreground, var(--jp-content-font-color1, black)));\n",
              "  --sklearn-color-background: var(--sg-background-color, var(--theme-background, var(--jp-layout-color0, white)));\n",
              "  --sklearn-color-border-box: var(--sg-text-color, var(--theme-code-foreground, var(--jp-content-font-color1, black)));\n",
              "  --sklearn-color-icon: #696969;\n",
              "\n",
              "  @media (prefers-color-scheme: dark) {\n",
              "    /* Redefinition of color scheme for dark theme */\n",
              "    --sklearn-color-text-on-default-background: var(--sg-text-color, var(--theme-code-foreground, var(--jp-content-font-color1, white)));\n",
              "    --sklearn-color-background: var(--sg-background-color, var(--theme-background, var(--jp-layout-color0, #111)));\n",
              "    --sklearn-color-border-box: var(--sg-text-color, var(--theme-code-foreground, var(--jp-content-font-color1, white)));\n",
              "    --sklearn-color-icon: #878787;\n",
              "  }\n",
              "}\n",
              "\n",
              "#sk-container-id-17 {\n",
              "  color: var(--sklearn-color-text);\n",
              "}\n",
              "\n",
              "#sk-container-id-17 pre {\n",
              "  padding: 0;\n",
              "}\n",
              "\n",
              "#sk-container-id-17 input.sk-hidden--visually {\n",
              "  border: 0;\n",
              "  clip: rect(1px 1px 1px 1px);\n",
              "  clip: rect(1px, 1px, 1px, 1px);\n",
              "  height: 1px;\n",
              "  margin: -1px;\n",
              "  overflow: hidden;\n",
              "  padding: 0;\n",
              "  position: absolute;\n",
              "  width: 1px;\n",
              "}\n",
              "\n",
              "#sk-container-id-17 div.sk-dashed-wrapped {\n",
              "  border: 1px dashed var(--sklearn-color-line);\n",
              "  margin: 0 0.4em 0.5em 0.4em;\n",
              "  box-sizing: border-box;\n",
              "  padding-bottom: 0.4em;\n",
              "  background-color: var(--sklearn-color-background);\n",
              "}\n",
              "\n",
              "#sk-container-id-17 div.sk-container {\n",
              "  /* jupyter's `normalize.less` sets `[hidden] { display: none; }`\n",
              "     but bootstrap.min.css set `[hidden] { display: none !important; }`\n",
              "     so we also need the `!important` here to be able to override the\n",
              "     default hidden behavior on the sphinx rendered scikit-learn.org.\n",
              "     See: https://github.com/scikit-learn/scikit-learn/issues/21755 */\n",
              "  display: inline-block !important;\n",
              "  position: relative;\n",
              "}\n",
              "\n",
              "#sk-container-id-17 div.sk-text-repr-fallback {\n",
              "  display: none;\n",
              "}\n",
              "\n",
              "div.sk-parallel-item,\n",
              "div.sk-serial,\n",
              "div.sk-item {\n",
              "  /* draw centered vertical line to link estimators */\n",
              "  background-image: linear-gradient(var(--sklearn-color-text-on-default-background), var(--sklearn-color-text-on-default-background));\n",
              "  background-size: 2px 100%;\n",
              "  background-repeat: no-repeat;\n",
              "  background-position: center center;\n",
              "}\n",
              "\n",
              "/* Parallel-specific style estimator block */\n",
              "\n",
              "#sk-container-id-17 div.sk-parallel-item::after {\n",
              "  content: \"\";\n",
              "  width: 100%;\n",
              "  border-bottom: 2px solid var(--sklearn-color-text-on-default-background);\n",
              "  flex-grow: 1;\n",
              "}\n",
              "\n",
              "#sk-container-id-17 div.sk-parallel {\n",
              "  display: flex;\n",
              "  align-items: stretch;\n",
              "  justify-content: center;\n",
              "  background-color: var(--sklearn-color-background);\n",
              "  position: relative;\n",
              "}\n",
              "\n",
              "#sk-container-id-17 div.sk-parallel-item {\n",
              "  display: flex;\n",
              "  flex-direction: column;\n",
              "}\n",
              "\n",
              "#sk-container-id-17 div.sk-parallel-item:first-child::after {\n",
              "  align-self: flex-end;\n",
              "  width: 50%;\n",
              "}\n",
              "\n",
              "#sk-container-id-17 div.sk-parallel-item:last-child::after {\n",
              "  align-self: flex-start;\n",
              "  width: 50%;\n",
              "}\n",
              "\n",
              "#sk-container-id-17 div.sk-parallel-item:only-child::after {\n",
              "  width: 0;\n",
              "}\n",
              "\n",
              "/* Serial-specific style estimator block */\n",
              "\n",
              "#sk-container-id-17 div.sk-serial {\n",
              "  display: flex;\n",
              "  flex-direction: column;\n",
              "  align-items: center;\n",
              "  background-color: var(--sklearn-color-background);\n",
              "  padding-right: 1em;\n",
              "  padding-left: 1em;\n",
              "}\n",
              "\n",
              "\n",
              "/* Toggleable style: style used for estimator/Pipeline/ColumnTransformer box that is\n",
              "clickable and can be expanded/collapsed.\n",
              "- Pipeline and ColumnTransformer use this feature and define the default style\n",
              "- Estimators will overwrite some part of the style using the `sk-estimator` class\n",
              "*/\n",
              "\n",
              "/* Pipeline and ColumnTransformer style (default) */\n",
              "\n",
              "#sk-container-id-17 div.sk-toggleable {\n",
              "  /* Default theme specific background. It is overwritten whether we have a\n",
              "  specific estimator or a Pipeline/ColumnTransformer */\n",
              "  background-color: var(--sklearn-color-background);\n",
              "}\n",
              "\n",
              "/* Toggleable label */\n",
              "#sk-container-id-17 label.sk-toggleable__label {\n",
              "  cursor: pointer;\n",
              "  display: block;\n",
              "  width: 100%;\n",
              "  margin-bottom: 0;\n",
              "  padding: 0.5em;\n",
              "  box-sizing: border-box;\n",
              "  text-align: center;\n",
              "}\n",
              "\n",
              "#sk-container-id-17 label.sk-toggleable__label-arrow:before {\n",
              "  /* Arrow on the left of the label */\n",
              "  content: \"▸\";\n",
              "  float: left;\n",
              "  margin-right: 0.25em;\n",
              "  color: var(--sklearn-color-icon);\n",
              "}\n",
              "\n",
              "#sk-container-id-17 label.sk-toggleable__label-arrow:hover:before {\n",
              "  color: var(--sklearn-color-text);\n",
              "}\n",
              "\n",
              "/* Toggleable content - dropdown */\n",
              "\n",
              "#sk-container-id-17 div.sk-toggleable__content {\n",
              "  max-height: 0;\n",
              "  max-width: 0;\n",
              "  overflow: hidden;\n",
              "  text-align: left;\n",
              "  /* unfitted */\n",
              "  background-color: var(--sklearn-color-unfitted-level-0);\n",
              "}\n",
              "\n",
              "#sk-container-id-17 div.sk-toggleable__content.fitted {\n",
              "  /* fitted */\n",
              "  background-color: var(--sklearn-color-fitted-level-0);\n",
              "}\n",
              "\n",
              "#sk-container-id-17 div.sk-toggleable__content pre {\n",
              "  margin: 0.2em;\n",
              "  border-radius: 0.25em;\n",
              "  color: var(--sklearn-color-text);\n",
              "  /* unfitted */\n",
              "  background-color: var(--sklearn-color-unfitted-level-0);\n",
              "}\n",
              "\n",
              "#sk-container-id-17 div.sk-toggleable__content.fitted pre {\n",
              "  /* unfitted */\n",
              "  background-color: var(--sklearn-color-fitted-level-0);\n",
              "}\n",
              "\n",
              "#sk-container-id-17 input.sk-toggleable__control:checked~div.sk-toggleable__content {\n",
              "  /* Expand drop-down */\n",
              "  max-height: 200px;\n",
              "  max-width: 100%;\n",
              "  overflow: auto;\n",
              "}\n",
              "\n",
              "#sk-container-id-17 input.sk-toggleable__control:checked~label.sk-toggleable__label-arrow:before {\n",
              "  content: \"▾\";\n",
              "}\n",
              "\n",
              "/* Pipeline/ColumnTransformer-specific style */\n",
              "\n",
              "#sk-container-id-17 div.sk-label input.sk-toggleable__control:checked~label.sk-toggleable__label {\n",
              "  color: var(--sklearn-color-text);\n",
              "  background-color: var(--sklearn-color-unfitted-level-2);\n",
              "}\n",
              "\n",
              "#sk-container-id-17 div.sk-label.fitted input.sk-toggleable__control:checked~label.sk-toggleable__label {\n",
              "  background-color: var(--sklearn-color-fitted-level-2);\n",
              "}\n",
              "\n",
              "/* Estimator-specific style */\n",
              "\n",
              "/* Colorize estimator box */\n",
              "#sk-container-id-17 div.sk-estimator input.sk-toggleable__control:checked~label.sk-toggleable__label {\n",
              "  /* unfitted */\n",
              "  background-color: var(--sklearn-color-unfitted-level-2);\n",
              "}\n",
              "\n",
              "#sk-container-id-17 div.sk-estimator.fitted input.sk-toggleable__control:checked~label.sk-toggleable__label {\n",
              "  /* fitted */\n",
              "  background-color: var(--sklearn-color-fitted-level-2);\n",
              "}\n",
              "\n",
              "#sk-container-id-17 div.sk-label label.sk-toggleable__label,\n",
              "#sk-container-id-17 div.sk-label label {\n",
              "  /* The background is the default theme color */\n",
              "  color: var(--sklearn-color-text-on-default-background);\n",
              "}\n",
              "\n",
              "/* On hover, darken the color of the background */\n",
              "#sk-container-id-17 div.sk-label:hover label.sk-toggleable__label {\n",
              "  color: var(--sklearn-color-text);\n",
              "  background-color: var(--sklearn-color-unfitted-level-2);\n",
              "}\n",
              "\n",
              "/* Label box, darken color on hover, fitted */\n",
              "#sk-container-id-17 div.sk-label.fitted:hover label.sk-toggleable__label.fitted {\n",
              "  color: var(--sklearn-color-text);\n",
              "  background-color: var(--sklearn-color-fitted-level-2);\n",
              "}\n",
              "\n",
              "/* Estimator label */\n",
              "\n",
              "#sk-container-id-17 div.sk-label label {\n",
              "  font-family: monospace;\n",
              "  font-weight: bold;\n",
              "  display: inline-block;\n",
              "  line-height: 1.2em;\n",
              "}\n",
              "\n",
              "#sk-container-id-17 div.sk-label-container {\n",
              "  text-align: center;\n",
              "}\n",
              "\n",
              "/* Estimator-specific */\n",
              "#sk-container-id-17 div.sk-estimator {\n",
              "  font-family: monospace;\n",
              "  border: 1px dotted var(--sklearn-color-border-box);\n",
              "  border-radius: 0.25em;\n",
              "  box-sizing: border-box;\n",
              "  margin-bottom: 0.5em;\n",
              "  /* unfitted */\n",
              "  background-color: var(--sklearn-color-unfitted-level-0);\n",
              "}\n",
              "\n",
              "#sk-container-id-17 div.sk-estimator.fitted {\n",
              "  /* fitted */\n",
              "  background-color: var(--sklearn-color-fitted-level-0);\n",
              "}\n",
              "\n",
              "/* on hover */\n",
              "#sk-container-id-17 div.sk-estimator:hover {\n",
              "  /* unfitted */\n",
              "  background-color: var(--sklearn-color-unfitted-level-2);\n",
              "}\n",
              "\n",
              "#sk-container-id-17 div.sk-estimator.fitted:hover {\n",
              "  /* fitted */\n",
              "  background-color: var(--sklearn-color-fitted-level-2);\n",
              "}\n",
              "\n",
              "/* Specification for estimator info (e.g. \"i\" and \"?\") */\n",
              "\n",
              "/* Common style for \"i\" and \"?\" */\n",
              "\n",
              ".sk-estimator-doc-link,\n",
              "a:link.sk-estimator-doc-link,\n",
              "a:visited.sk-estimator-doc-link {\n",
              "  float: right;\n",
              "  font-size: smaller;\n",
              "  line-height: 1em;\n",
              "  font-family: monospace;\n",
              "  background-color: var(--sklearn-color-background);\n",
              "  border-radius: 1em;\n",
              "  height: 1em;\n",
              "  width: 1em;\n",
              "  text-decoration: none !important;\n",
              "  margin-left: 1ex;\n",
              "  /* unfitted */\n",
              "  border: var(--sklearn-color-unfitted-level-1) 1pt solid;\n",
              "  color: var(--sklearn-color-unfitted-level-1);\n",
              "}\n",
              "\n",
              ".sk-estimator-doc-link.fitted,\n",
              "a:link.sk-estimator-doc-link.fitted,\n",
              "a:visited.sk-estimator-doc-link.fitted {\n",
              "  /* fitted */\n",
              "  border: var(--sklearn-color-fitted-level-1) 1pt solid;\n",
              "  color: var(--sklearn-color-fitted-level-1);\n",
              "}\n",
              "\n",
              "/* On hover */\n",
              "div.sk-estimator:hover .sk-estimator-doc-link:hover,\n",
              ".sk-estimator-doc-link:hover,\n",
              "div.sk-label-container:hover .sk-estimator-doc-link:hover,\n",
              ".sk-estimator-doc-link:hover {\n",
              "  /* unfitted */\n",
              "  background-color: var(--sklearn-color-unfitted-level-3);\n",
              "  color: var(--sklearn-color-background);\n",
              "  text-decoration: none;\n",
              "}\n",
              "\n",
              "div.sk-estimator.fitted:hover .sk-estimator-doc-link.fitted:hover,\n",
              ".sk-estimator-doc-link.fitted:hover,\n",
              "div.sk-label-container:hover .sk-estimator-doc-link.fitted:hover,\n",
              ".sk-estimator-doc-link.fitted:hover {\n",
              "  /* fitted */\n",
              "  background-color: var(--sklearn-color-fitted-level-3);\n",
              "  color: var(--sklearn-color-background);\n",
              "  text-decoration: none;\n",
              "}\n",
              "\n",
              "/* Span, style for the box shown on hovering the info icon */\n",
              ".sk-estimator-doc-link span {\n",
              "  display: none;\n",
              "  z-index: 9999;\n",
              "  position: relative;\n",
              "  font-weight: normal;\n",
              "  right: .2ex;\n",
              "  padding: .5ex;\n",
              "  margin: .5ex;\n",
              "  width: min-content;\n",
              "  min-width: 20ex;\n",
              "  max-width: 50ex;\n",
              "  color: var(--sklearn-color-text);\n",
              "  box-shadow: 2pt 2pt 4pt #999;\n",
              "  /* unfitted */\n",
              "  background: var(--sklearn-color-unfitted-level-0);\n",
              "  border: .5pt solid var(--sklearn-color-unfitted-level-3);\n",
              "}\n",
              "\n",
              ".sk-estimator-doc-link.fitted span {\n",
              "  /* fitted */\n",
              "  background: var(--sklearn-color-fitted-level-0);\n",
              "  border: var(--sklearn-color-fitted-level-3);\n",
              "}\n",
              "\n",
              ".sk-estimator-doc-link:hover span {\n",
              "  display: block;\n",
              "}\n",
              "\n",
              "/* \"?\"-specific style due to the `<a>` HTML tag */\n",
              "\n",
              "#sk-container-id-17 a.estimator_doc_link {\n",
              "  float: right;\n",
              "  font-size: 1rem;\n",
              "  line-height: 1em;\n",
              "  font-family: monospace;\n",
              "  background-color: var(--sklearn-color-background);\n",
              "  border-radius: 1rem;\n",
              "  height: 1rem;\n",
              "  width: 1rem;\n",
              "  text-decoration: none;\n",
              "  /* unfitted */\n",
              "  color: var(--sklearn-color-unfitted-level-1);\n",
              "  border: var(--sklearn-color-unfitted-level-1) 1pt solid;\n",
              "}\n",
              "\n",
              "#sk-container-id-17 a.estimator_doc_link.fitted {\n",
              "  /* fitted */\n",
              "  border: var(--sklearn-color-fitted-level-1) 1pt solid;\n",
              "  color: var(--sklearn-color-fitted-level-1);\n",
              "}\n",
              "\n",
              "/* On hover */\n",
              "#sk-container-id-17 a.estimator_doc_link:hover {\n",
              "  /* unfitted */\n",
              "  background-color: var(--sklearn-color-unfitted-level-3);\n",
              "  color: var(--sklearn-color-background);\n",
              "  text-decoration: none;\n",
              "}\n",
              "\n",
              "#sk-container-id-17 a.estimator_doc_link.fitted:hover {\n",
              "  /* fitted */\n",
              "  background-color: var(--sklearn-color-fitted-level-3);\n",
              "}\n",
              "</style><div id=\"sk-container-id-17\" class=\"sk-top-container\"><div class=\"sk-text-repr-fallback\"><pre>RandomForestRegressor(max_depth=11, max_features=1, n_estimators=60,\n",
              "                      random_state=0)</pre><b>In a Jupyter environment, please rerun this cell to show the HTML representation or trust the notebook. <br />On GitHub, the HTML representation is unable to render, please try loading this page with nbviewer.org.</b></div><div class=\"sk-container\" hidden><div class=\"sk-item\"><div class=\"sk-estimator fitted sk-toggleable\"><input class=\"sk-toggleable__control sk-hidden--visually\" id=\"sk-estimator-id-17\" type=\"checkbox\" checked><label for=\"sk-estimator-id-17\" class=\"sk-toggleable__label fitted sk-toggleable__label-arrow fitted\">&nbsp;&nbsp;RandomForestRegressor<a class=\"sk-estimator-doc-link fitted\" rel=\"noreferrer\" target=\"_blank\" href=\"https://scikit-learn.org/1.4/modules/generated/sklearn.ensemble.RandomForestRegressor.html\">?<span>Documentation for RandomForestRegressor</span></a><span class=\"sk-estimator-doc-link fitted\">i<span>Fitted</span></span></label><div class=\"sk-toggleable__content fitted\"><pre>RandomForestRegressor(max_depth=11, max_features=1, n_estimators=60,\n",
              "                      random_state=0)</pre></div> </div></div></div></div>"
            ],
            "text/plain": [
              "RandomForestRegressor(max_depth=11, max_features=1, n_estimators=60,\n",
              "                      random_state=0)"
            ]
          },
          "execution_count": 103,
          "metadata": {},
          "output_type": "execute_result"
        }
      ],
      "source": [
        "mr = RandomForestRegressor(max_features=1,max_depth=11, criterion='squared_error',n_estimators=60, random_state=0)\n",
        "mr.fit(x_train, y_train)"
      ]
    },
    {
      "cell_type": "code",
      "execution_count": null,
      "metadata": {
        "id": "ZtayQgOyE5Hm"
      },
      "outputs": [],
      "source": [
        "y_pred = mr.predict(x_test)"
      ]
    },
    {
      "cell_type": "code",
      "execution_count": null,
      "metadata": {
        "id": "DdN0d-NpE_Li"
      },
      "outputs": [],
      "source": [
        "from sklearn.metrics import mean_squared_error, r2_score"
      ]
    },
    {
      "cell_type": "code",
      "execution_count": null,
      "metadata": {
        "colab": {
          "base_uri": "https://localhost:8080/"
        },
        "id": "D6X_HvmUFDV_",
        "outputId": "ea41d5cf-f170-4a63-98dd-8537326b93d6"
      },
      "outputs": [
        {
          "data": {
            "text/plain": [
              "0.694232522890001"
            ]
          },
          "execution_count": 105,
          "metadata": {},
          "output_type": "execute_result"
        }
      ],
      "source": [
        "r2_score(y_test, y_pred)"
      ]
    },
    {
      "cell_type": "code",
      "execution_count": null,
      "metadata": {
        "colab": {
          "base_uri": "https://localhost:8080/"
        },
        "id": "UWe-Gvn5FGEM",
        "outputId": "e54f53d0-31c2-4ebb-c640-7cab2442ce7e"
      },
      "outputs": [
        {
          "data": {
            "text/plain": [
              "175.23174431022628"
            ]
          },
          "execution_count": 106,
          "metadata": {},
          "output_type": "execute_result"
        }
      ],
      "source": [
        "mean_squared_error(y_test, y_pred)"
      ]
    },
    {
      "cell_type": "markdown",
      "metadata": {},
      "source": [
        "Saving the model"
      ]
    },
    {
      "cell_type": "code",
      "execution_count": null,
      "metadata": {},
      "outputs": [],
      "source": [
        "import pickle\n",
        "saved_model = pickle.dumps(mr)\n",
        "with open('forest_model.pkl', 'wb') as file:\n",
        "    pickle.dump(mr, file)\n",
        "file.close()"
      ]
    },
    {
      "cell_type": "code",
      "execution_count": null,
      "metadata": {},
      "outputs": [],
      "source": []
    }
  ],
  "metadata": {
    "accelerator": "GPU",
    "colab": {
      "gpuType": "T4",
      "provenance": []
    },
    "kernelspec": {
      "display_name": "Python 3",
      "name": "python3"
    },
    "language_info": {
      "codemirror_mode": {
        "name": "ipython",
        "version": 3
      },
      "file_extension": ".py",
      "mimetype": "text/x-python",
      "name": "python",
      "nbconvert_exporter": "python",
      "pygments_lexer": "ipython3",
      "version": "3.12.1"
    }
  },
  "nbformat": 4,
  "nbformat_minor": 0
}
